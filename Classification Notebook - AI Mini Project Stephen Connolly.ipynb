{
 "cells": [
  {
   "cell_type": "markdown",
   "metadata": {},
   "source": [
    "# Classification Notebook- Investigating the performance of classifiers when predicting the price of cars"
   ]
  },
  {
   "cell_type": "markdown",
   "metadata": {},
   "source": [
    "This notebook details the workings of the project 'Investigating the performance of classifiers when predicting the price of cars' by Stephen Connolly"
   ]
  },
  {
   "cell_type": "markdown",
   "metadata": {},
   "source": [
    "Import required packages"
   ]
  },
  {
   "cell_type": "markdown",
   "metadata": {},
   "source": [
    "Link to dataset used by Arya Monani: https://www.kaggle.com/aryamonani/car-prices-supervised-ml"
   ]
  },
  {
   "cell_type": "code",
   "execution_count": 1,
   "metadata": {},
   "outputs": [],
   "source": [
    "import string\n",
    "import re\n",
    "import os.path\n",
    "import pandas as pd\n",
    "import numpy as np \n",
    "import math\n",
    "import statistics\n",
    "import sklearn\n",
    "import os, io\n",
    "from sklearn.feature_extraction.text import TfidfVectorizer\n",
    "import matplotlib.pyplot as plt\n",
    "from sklearn.neighbors import KNeighborsClassifier\n",
    "from sklearn.naive_bayes import MultinomialNB\n",
    "from sklearn.linear_model import LogisticRegression\n",
    "from sklearn.ensemble import RandomForestClassifier\n",
    "from sklearn.model_selection import cross_val_score\n",
    "from sklearn.tree import DecisionTreeClassifier\n",
    "from sklearn import svm\n",
    "from sklearn.neural_network import MLPClassifier\n",
    "from sklearn.naive_bayes import GaussianNB\n",
    "from sklearn.model_selection import LeaveOneOut\n",
    "import warnings\n",
    "warnings.filterwarnings('ignore')\n",
    "from sklearn.model_selection import KFold\n",
    "from sklearn.metrics import confusion_matrix\n",
    "import seaborn as sns\n",
    "import matplotlib.pyplot as plt\n",
    "from sklearn.model_selection import train_test_split\n",
    "from sklearn.model_selection import cross_validate\n",
    "from sklearn.model_selection import cross_val_predict\n",
    "import matplotlib.pyplot as plt"
   ]
  },
  {
   "cell_type": "markdown",
   "metadata": {},
   "source": [
    "## Data Preprocessing"
   ]
  },
  {
   "cell_type": "code",
   "execution_count": 2,
   "metadata": {},
   "outputs": [],
   "source": [
    "df_full = pd.read_csv( \"CarDataset.csv\" )"
   ]
  },
  {
   "cell_type": "code",
   "execution_count": 3,
   "metadata": {},
   "outputs": [
    {
     "data": {
      "text/html": [
       "<div>\n",
       "<style scoped>\n",
       "    .dataframe tbody tr th:only-of-type {\n",
       "        vertical-align: middle;\n",
       "    }\n",
       "\n",
       "    .dataframe tbody tr th {\n",
       "        vertical-align: top;\n",
       "    }\n",
       "\n",
       "    .dataframe thead th {\n",
       "        text-align: right;\n",
       "    }\n",
       "</style>\n",
       "<table border=\"1\" class=\"dataframe\">\n",
       "  <thead>\n",
       "    <tr style=\"text-align: right;\">\n",
       "      <th></th>\n",
       "      <th>Brand</th>\n",
       "      <th>Price</th>\n",
       "      <th>Body</th>\n",
       "      <th>Mileage</th>\n",
       "      <th>EngineV</th>\n",
       "      <th>Engine Type</th>\n",
       "      <th>Registration</th>\n",
       "      <th>Year</th>\n",
       "      <th>Model</th>\n",
       "    </tr>\n",
       "  </thead>\n",
       "  <tbody>\n",
       "    <tr>\n",
       "      <td>0</td>\n",
       "      <td>BMW</td>\n",
       "      <td>4200.0</td>\n",
       "      <td>sedan</td>\n",
       "      <td>277</td>\n",
       "      <td>2.0</td>\n",
       "      <td>Petrol</td>\n",
       "      <td>yes</td>\n",
       "      <td>1991</td>\n",
       "      <td>320</td>\n",
       "    </tr>\n",
       "    <tr>\n",
       "      <td>1</td>\n",
       "      <td>Mercedes-Benz</td>\n",
       "      <td>7900.0</td>\n",
       "      <td>van</td>\n",
       "      <td>427</td>\n",
       "      <td>2.9</td>\n",
       "      <td>Diesel</td>\n",
       "      <td>yes</td>\n",
       "      <td>1999</td>\n",
       "      <td>Sprinter 212</td>\n",
       "    </tr>\n",
       "    <tr>\n",
       "      <td>2</td>\n",
       "      <td>Mercedes-Benz</td>\n",
       "      <td>13300.0</td>\n",
       "      <td>sedan</td>\n",
       "      <td>358</td>\n",
       "      <td>5.0</td>\n",
       "      <td>Gas</td>\n",
       "      <td>yes</td>\n",
       "      <td>2003</td>\n",
       "      <td>S 500</td>\n",
       "    </tr>\n",
       "    <tr>\n",
       "      <td>3</td>\n",
       "      <td>Audi</td>\n",
       "      <td>23000.0</td>\n",
       "      <td>crossover</td>\n",
       "      <td>240</td>\n",
       "      <td>4.2</td>\n",
       "      <td>Petrol</td>\n",
       "      <td>yes</td>\n",
       "      <td>2007</td>\n",
       "      <td>Q7</td>\n",
       "    </tr>\n",
       "    <tr>\n",
       "      <td>4</td>\n",
       "      <td>Toyota</td>\n",
       "      <td>18300.0</td>\n",
       "      <td>crossover</td>\n",
       "      <td>120</td>\n",
       "      <td>2.0</td>\n",
       "      <td>Petrol</td>\n",
       "      <td>yes</td>\n",
       "      <td>2011</td>\n",
       "      <td>Rav 4</td>\n",
       "    </tr>\n",
       "    <tr>\n",
       "      <td>...</td>\n",
       "      <td>...</td>\n",
       "      <td>...</td>\n",
       "      <td>...</td>\n",
       "      <td>...</td>\n",
       "      <td>...</td>\n",
       "      <td>...</td>\n",
       "      <td>...</td>\n",
       "      <td>...</td>\n",
       "      <td>...</td>\n",
       "    </tr>\n",
       "    <tr>\n",
       "      <td>4340</td>\n",
       "      <td>Mercedes-Benz</td>\n",
       "      <td>125000.0</td>\n",
       "      <td>sedan</td>\n",
       "      <td>9</td>\n",
       "      <td>3.0</td>\n",
       "      <td>Diesel</td>\n",
       "      <td>yes</td>\n",
       "      <td>2014</td>\n",
       "      <td>S 350</td>\n",
       "    </tr>\n",
       "    <tr>\n",
       "      <td>4341</td>\n",
       "      <td>BMW</td>\n",
       "      <td>6500.0</td>\n",
       "      <td>sedan</td>\n",
       "      <td>1</td>\n",
       "      <td>3.5</td>\n",
       "      <td>Petrol</td>\n",
       "      <td>yes</td>\n",
       "      <td>1999</td>\n",
       "      <td>535</td>\n",
       "    </tr>\n",
       "    <tr>\n",
       "      <td>4342</td>\n",
       "      <td>BMW</td>\n",
       "      <td>8000.0</td>\n",
       "      <td>sedan</td>\n",
       "      <td>194</td>\n",
       "      <td>2.0</td>\n",
       "      <td>Petrol</td>\n",
       "      <td>yes</td>\n",
       "      <td>1985</td>\n",
       "      <td>520</td>\n",
       "    </tr>\n",
       "    <tr>\n",
       "      <td>4343</td>\n",
       "      <td>Toyota</td>\n",
       "      <td>14200.0</td>\n",
       "      <td>sedan</td>\n",
       "      <td>31</td>\n",
       "      <td>NaN</td>\n",
       "      <td>Petrol</td>\n",
       "      <td>yes</td>\n",
       "      <td>2014</td>\n",
       "      <td>Corolla</td>\n",
       "    </tr>\n",
       "    <tr>\n",
       "      <td>4344</td>\n",
       "      <td>Volkswagen</td>\n",
       "      <td>13500.0</td>\n",
       "      <td>van</td>\n",
       "      <td>124</td>\n",
       "      <td>2.0</td>\n",
       "      <td>Diesel</td>\n",
       "      <td>yes</td>\n",
       "      <td>2013</td>\n",
       "      <td>T5 (Transporter)</td>\n",
       "    </tr>\n",
       "  </tbody>\n",
       "</table>\n",
       "<p>4345 rows × 9 columns</p>\n",
       "</div>"
      ],
      "text/plain": [
       "              Brand     Price       Body  Mileage  EngineV Engine Type  \\\n",
       "0               BMW    4200.0      sedan      277      2.0      Petrol   \n",
       "1     Mercedes-Benz    7900.0        van      427      2.9      Diesel   \n",
       "2     Mercedes-Benz   13300.0      sedan      358      5.0         Gas   \n",
       "3              Audi   23000.0  crossover      240      4.2      Petrol   \n",
       "4            Toyota   18300.0  crossover      120      2.0      Petrol   \n",
       "...             ...       ...        ...      ...      ...         ...   \n",
       "4340  Mercedes-Benz  125000.0      sedan        9      3.0      Diesel   \n",
       "4341            BMW    6500.0      sedan        1      3.5      Petrol   \n",
       "4342            BMW    8000.0      sedan      194      2.0      Petrol   \n",
       "4343         Toyota   14200.0      sedan       31      NaN      Petrol   \n",
       "4344     Volkswagen   13500.0        van      124      2.0      Diesel   \n",
       "\n",
       "     Registration  Year              Model  \n",
       "0             yes  1991                320  \n",
       "1             yes  1999       Sprinter 212  \n",
       "2             yes  2003              S 500  \n",
       "3             yes  2007                 Q7  \n",
       "4             yes  2011              Rav 4  \n",
       "...           ...   ...                ...  \n",
       "4340          yes  2014              S 350  \n",
       "4341          yes  1999                535  \n",
       "4342          yes  1985                520  \n",
       "4343          yes  2014            Corolla  \n",
       "4344          yes  2013  T5 (Transporter)   \n",
       "\n",
       "[4345 rows x 9 columns]"
      ]
     },
     "execution_count": 3,
     "metadata": {},
     "output_type": "execute_result"
    }
   ],
   "source": [
    "df_full"
   ]
  },
  {
   "cell_type": "code",
   "execution_count": 4,
   "metadata": {},
   "outputs": [
    {
     "name": "stdout",
     "output_type": "stream",
     "text": [
      "<class 'pandas.core.frame.DataFrame'>\n",
      "RangeIndex: 4345 entries, 0 to 4344\n",
      "Data columns (total 9 columns):\n",
      "Brand           4345 non-null object\n",
      "Price           4173 non-null float64\n",
      "Body            4345 non-null object\n",
      "Mileage         4345 non-null int64\n",
      "EngineV         4195 non-null float64\n",
      "Engine Type     4345 non-null object\n",
      "Registration    4345 non-null object\n",
      "Year            4345 non-null int64\n",
      "Model           4345 non-null object\n",
      "dtypes: float64(2), int64(2), object(5)\n",
      "memory usage: 305.6+ KB\n"
     ]
    }
   ],
   "source": [
    "df_full.info()"
   ]
  },
  {
   "cell_type": "code",
   "execution_count": 5,
   "metadata": {},
   "outputs": [
    {
     "data": {
      "text/plain": [
       "Brand             0\n",
       "Price           172\n",
       "Body              0\n",
       "Mileage           0\n",
       "EngineV         150\n",
       "Engine Type       0\n",
       "Registration      0\n",
       "Year              0\n",
       "Model             0\n",
       "dtype: int64"
      ]
     },
     "execution_count": 5,
     "metadata": {},
     "output_type": "execute_result"
    }
   ],
   "source": [
    "df_full.isna().sum()"
   ]
  },
  {
   "cell_type": "code",
   "execution_count": 6,
   "metadata": {},
   "outputs": [
    {
     "data": {
      "text/html": [
       "<div>\n",
       "<style scoped>\n",
       "    .dataframe tbody tr th:only-of-type {\n",
       "        vertical-align: middle;\n",
       "    }\n",
       "\n",
       "    .dataframe tbody tr th {\n",
       "        vertical-align: top;\n",
       "    }\n",
       "\n",
       "    .dataframe thead th {\n",
       "        text-align: right;\n",
       "    }\n",
       "</style>\n",
       "<table border=\"1\" class=\"dataframe\">\n",
       "  <thead>\n",
       "    <tr style=\"text-align: right;\">\n",
       "      <th></th>\n",
       "      <th>Brand</th>\n",
       "      <th>Price</th>\n",
       "      <th>Body</th>\n",
       "      <th>Mileage</th>\n",
       "      <th>EngineV</th>\n",
       "      <th>Engine Type</th>\n",
       "      <th>Registration</th>\n",
       "      <th>Year</th>\n",
       "      <th>Model</th>\n",
       "    </tr>\n",
       "  </thead>\n",
       "  <tbody>\n",
       "    <tr>\n",
       "      <td>0</td>\n",
       "      <td>BMW</td>\n",
       "      <td>4200.0</td>\n",
       "      <td>sedan</td>\n",
       "      <td>277</td>\n",
       "      <td>2.00</td>\n",
       "      <td>Petrol</td>\n",
       "      <td>yes</td>\n",
       "      <td>1991</td>\n",
       "      <td>320</td>\n",
       "    </tr>\n",
       "    <tr>\n",
       "      <td>1</td>\n",
       "      <td>Mercedes-Benz</td>\n",
       "      <td>7900.0</td>\n",
       "      <td>van</td>\n",
       "      <td>427</td>\n",
       "      <td>2.90</td>\n",
       "      <td>Diesel</td>\n",
       "      <td>yes</td>\n",
       "      <td>1999</td>\n",
       "      <td>Sprinter 212</td>\n",
       "    </tr>\n",
       "    <tr>\n",
       "      <td>2</td>\n",
       "      <td>Mercedes-Benz</td>\n",
       "      <td>13300.0</td>\n",
       "      <td>sedan</td>\n",
       "      <td>358</td>\n",
       "      <td>5.00</td>\n",
       "      <td>Gas</td>\n",
       "      <td>yes</td>\n",
       "      <td>2003</td>\n",
       "      <td>S 500</td>\n",
       "    </tr>\n",
       "    <tr>\n",
       "      <td>3</td>\n",
       "      <td>Audi</td>\n",
       "      <td>23000.0</td>\n",
       "      <td>crossover</td>\n",
       "      <td>240</td>\n",
       "      <td>4.20</td>\n",
       "      <td>Petrol</td>\n",
       "      <td>yes</td>\n",
       "      <td>2007</td>\n",
       "      <td>Q7</td>\n",
       "    </tr>\n",
       "    <tr>\n",
       "      <td>4</td>\n",
       "      <td>Toyota</td>\n",
       "      <td>18300.0</td>\n",
       "      <td>crossover</td>\n",
       "      <td>120</td>\n",
       "      <td>2.00</td>\n",
       "      <td>Petrol</td>\n",
       "      <td>yes</td>\n",
       "      <td>2011</td>\n",
       "      <td>Rav 4</td>\n",
       "    </tr>\n",
       "    <tr>\n",
       "      <td>5</td>\n",
       "      <td>Mercedes-Benz</td>\n",
       "      <td>199999.0</td>\n",
       "      <td>crossover</td>\n",
       "      <td>0</td>\n",
       "      <td>5.50</td>\n",
       "      <td>Petrol</td>\n",
       "      <td>yes</td>\n",
       "      <td>2016</td>\n",
       "      <td>GLS 63</td>\n",
       "    </tr>\n",
       "    <tr>\n",
       "      <td>6</td>\n",
       "      <td>BMW</td>\n",
       "      <td>6100.0</td>\n",
       "      <td>sedan</td>\n",
       "      <td>438</td>\n",
       "      <td>2.00</td>\n",
       "      <td>Gas</td>\n",
       "      <td>yes</td>\n",
       "      <td>1997</td>\n",
       "      <td>320</td>\n",
       "    </tr>\n",
       "    <tr>\n",
       "      <td>7</td>\n",
       "      <td>Audi</td>\n",
       "      <td>14200.0</td>\n",
       "      <td>vagon</td>\n",
       "      <td>200</td>\n",
       "      <td>2.70</td>\n",
       "      <td>Diesel</td>\n",
       "      <td>yes</td>\n",
       "      <td>2006</td>\n",
       "      <td>A6</td>\n",
       "    </tr>\n",
       "    <tr>\n",
       "      <td>8</td>\n",
       "      <td>Renault</td>\n",
       "      <td>10799.0</td>\n",
       "      <td>vagon</td>\n",
       "      <td>193</td>\n",
       "      <td>1.50</td>\n",
       "      <td>Diesel</td>\n",
       "      <td>yes</td>\n",
       "      <td>2012</td>\n",
       "      <td>Megane</td>\n",
       "    </tr>\n",
       "    <tr>\n",
       "      <td>9</td>\n",
       "      <td>Volkswagen</td>\n",
       "      <td>1400.0</td>\n",
       "      <td>other</td>\n",
       "      <td>212</td>\n",
       "      <td>1.80</td>\n",
       "      <td>Gas</td>\n",
       "      <td>no</td>\n",
       "      <td>1999</td>\n",
       "      <td>Golf IV</td>\n",
       "    </tr>\n",
       "    <tr>\n",
       "      <td>10</td>\n",
       "      <td>Renault</td>\n",
       "      <td>11950.0</td>\n",
       "      <td>vagon</td>\n",
       "      <td>177</td>\n",
       "      <td>1.50</td>\n",
       "      <td>Diesel</td>\n",
       "      <td>yes</td>\n",
       "      <td>2011</td>\n",
       "      <td>Megane</td>\n",
       "    </tr>\n",
       "    <tr>\n",
       "      <td>11</td>\n",
       "      <td>Renault</td>\n",
       "      <td>2500.0</td>\n",
       "      <td>sedan</td>\n",
       "      <td>260</td>\n",
       "      <td>1.79</td>\n",
       "      <td>Petrol</td>\n",
       "      <td>yes</td>\n",
       "      <td>1994</td>\n",
       "      <td>19</td>\n",
       "    </tr>\n",
       "    <tr>\n",
       "      <td>12</td>\n",
       "      <td>Audi</td>\n",
       "      <td>9500.0</td>\n",
       "      <td>vagon</td>\n",
       "      <td>165</td>\n",
       "      <td>2.70</td>\n",
       "      <td>Gas</td>\n",
       "      <td>yes</td>\n",
       "      <td>2003</td>\n",
       "      <td>A6 Allroad</td>\n",
       "    </tr>\n",
       "    <tr>\n",
       "      <td>13</td>\n",
       "      <td>Volkswagen</td>\n",
       "      <td>10500.0</td>\n",
       "      <td>sedan</td>\n",
       "      <td>100</td>\n",
       "      <td>1.80</td>\n",
       "      <td>Petrol</td>\n",
       "      <td>yes</td>\n",
       "      <td>2008</td>\n",
       "      <td>Passat B6</td>\n",
       "    </tr>\n",
       "    <tr>\n",
       "      <td>14</td>\n",
       "      <td>Toyota</td>\n",
       "      <td>16000.0</td>\n",
       "      <td>crossover</td>\n",
       "      <td>250</td>\n",
       "      <td>4.70</td>\n",
       "      <td>Gas</td>\n",
       "      <td>yes</td>\n",
       "      <td>2001</td>\n",
       "      <td>Land Cruiser 100</td>\n",
       "    </tr>\n",
       "    <tr>\n",
       "      <td>15</td>\n",
       "      <td>Renault</td>\n",
       "      <td>8600.0</td>\n",
       "      <td>hatch</td>\n",
       "      <td>84</td>\n",
       "      <td>1.50</td>\n",
       "      <td>Diesel</td>\n",
       "      <td>yes</td>\n",
       "      <td>2012</td>\n",
       "      <td>Clio</td>\n",
       "    </tr>\n",
       "    <tr>\n",
       "      <td>16</td>\n",
       "      <td>BMW</td>\n",
       "      <td>2990.0</td>\n",
       "      <td>other</td>\n",
       "      <td>203</td>\n",
       "      <td>2.00</td>\n",
       "      <td>Petrol</td>\n",
       "      <td>no</td>\n",
       "      <td>2001</td>\n",
       "      <td>318</td>\n",
       "    </tr>\n",
       "    <tr>\n",
       "      <td>17</td>\n",
       "      <td>Mercedes-Benz</td>\n",
       "      <td>NaN</td>\n",
       "      <td>van</td>\n",
       "      <td>240</td>\n",
       "      <td>2.20</td>\n",
       "      <td>Diesel</td>\n",
       "      <td>yes</td>\n",
       "      <td>2007</td>\n",
       "      <td>Vito</td>\n",
       "    </tr>\n",
       "    <tr>\n",
       "      <td>18</td>\n",
       "      <td>Toyota</td>\n",
       "      <td>26500.0</td>\n",
       "      <td>crossover</td>\n",
       "      <td>21</td>\n",
       "      <td>2.00</td>\n",
       "      <td>Petrol</td>\n",
       "      <td>yes</td>\n",
       "      <td>2013</td>\n",
       "      <td>Rav 4</td>\n",
       "    </tr>\n",
       "  </tbody>\n",
       "</table>\n",
       "</div>"
      ],
      "text/plain": [
       "            Brand     Price       Body  Mileage  EngineV Engine Type  \\\n",
       "0             BMW    4200.0      sedan      277     2.00      Petrol   \n",
       "1   Mercedes-Benz    7900.0        van      427     2.90      Diesel   \n",
       "2   Mercedes-Benz   13300.0      sedan      358     5.00         Gas   \n",
       "3            Audi   23000.0  crossover      240     4.20      Petrol   \n",
       "4          Toyota   18300.0  crossover      120     2.00      Petrol   \n",
       "5   Mercedes-Benz  199999.0  crossover        0     5.50      Petrol   \n",
       "6             BMW    6100.0      sedan      438     2.00         Gas   \n",
       "7            Audi   14200.0      vagon      200     2.70      Diesel   \n",
       "8         Renault   10799.0      vagon      193     1.50      Diesel   \n",
       "9      Volkswagen    1400.0      other      212     1.80         Gas   \n",
       "10        Renault   11950.0      vagon      177     1.50      Diesel   \n",
       "11        Renault    2500.0      sedan      260     1.79      Petrol   \n",
       "12           Audi    9500.0      vagon      165     2.70         Gas   \n",
       "13     Volkswagen   10500.0      sedan      100     1.80      Petrol   \n",
       "14         Toyota   16000.0  crossover      250     4.70         Gas   \n",
       "15        Renault    8600.0      hatch       84     1.50      Diesel   \n",
       "16            BMW    2990.0      other      203     2.00      Petrol   \n",
       "17  Mercedes-Benz       NaN        van      240     2.20      Diesel   \n",
       "18         Toyota   26500.0  crossover       21     2.00      Petrol   \n",
       "\n",
       "   Registration  Year             Model  \n",
       "0           yes  1991               320  \n",
       "1           yes  1999      Sprinter 212  \n",
       "2           yes  2003             S 500  \n",
       "3           yes  2007                Q7  \n",
       "4           yes  2011             Rav 4  \n",
       "5           yes  2016            GLS 63  \n",
       "6           yes  1997               320  \n",
       "7           yes  2006                A6  \n",
       "8           yes  2012            Megane  \n",
       "9            no  1999           Golf IV  \n",
       "10          yes  2011            Megane  \n",
       "11          yes  1994                19  \n",
       "12          yes  2003        A6 Allroad  \n",
       "13          yes  2008         Passat B6  \n",
       "14          yes  2001  Land Cruiser 100  \n",
       "15          yes  2012              Clio  \n",
       "16           no  2001               318  \n",
       "17          yes  2007              Vito  \n",
       "18          yes  2013             Rav 4  "
      ]
     },
     "execution_count": 6,
     "metadata": {},
     "output_type": "execute_result"
    }
   ],
   "source": [
    "df_full.head(19)"
   ]
  },
  {
   "cell_type": "code",
   "execution_count": 7,
   "metadata": {},
   "outputs": [],
   "source": [
    "raw = df_full[df_full['Price'] != 'NaN']"
   ]
  },
  {
   "cell_type": "code",
   "execution_count": 8,
   "metadata": {},
   "outputs": [
    {
     "name": "stdout",
     "output_type": "stream",
     "text": [
      "4345\n"
     ]
    }
   ],
   "source": [
    "print(len(raw))"
   ]
  },
  {
   "cell_type": "code",
   "execution_count": 9,
   "metadata": {},
   "outputs": [
    {
     "name": "stdout",
     "output_type": "stream",
     "text": [
      "4345\n"
     ]
    }
   ],
   "source": [
    "print(len(df_full))"
   ]
  },
  {
   "cell_type": "code",
   "execution_count": 10,
   "metadata": {},
   "outputs": [],
   "source": [
    "raw = df_full.dropna()"
   ]
  },
  {
   "cell_type": "code",
   "execution_count": 11,
   "metadata": {},
   "outputs": [
    {
     "name": "stdout",
     "output_type": "stream",
     "text": [
      "4025\n"
     ]
    }
   ],
   "source": [
    "print(len(raw))"
   ]
  },
  {
   "cell_type": "code",
   "execution_count": 12,
   "metadata": {},
   "outputs": [],
   "source": [
    "df = raw"
   ]
  },
  {
   "cell_type": "code",
   "execution_count": 13,
   "metadata": {},
   "outputs": [],
   "source": [
    "df['Price'] = df['Price'].astype(int)"
   ]
  },
  {
   "cell_type": "code",
   "execution_count": 14,
   "metadata": {},
   "outputs": [
    {
     "data": {
      "text/html": [
       "<div>\n",
       "<style scoped>\n",
       "    .dataframe tbody tr th:only-of-type {\n",
       "        vertical-align: middle;\n",
       "    }\n",
       "\n",
       "    .dataframe tbody tr th {\n",
       "        vertical-align: top;\n",
       "    }\n",
       "\n",
       "    .dataframe thead th {\n",
       "        text-align: right;\n",
       "    }\n",
       "</style>\n",
       "<table border=\"1\" class=\"dataframe\">\n",
       "  <thead>\n",
       "    <tr style=\"text-align: right;\">\n",
       "      <th></th>\n",
       "      <th>Brand</th>\n",
       "      <th>Price</th>\n",
       "      <th>Body</th>\n",
       "      <th>Mileage</th>\n",
       "      <th>EngineV</th>\n",
       "      <th>Engine Type</th>\n",
       "      <th>Registration</th>\n",
       "      <th>Year</th>\n",
       "      <th>Model</th>\n",
       "    </tr>\n",
       "  </thead>\n",
       "  <tbody>\n",
       "    <tr>\n",
       "      <td>0</td>\n",
       "      <td>BMW</td>\n",
       "      <td>4200</td>\n",
       "      <td>sedan</td>\n",
       "      <td>277</td>\n",
       "      <td>2.00</td>\n",
       "      <td>Petrol</td>\n",
       "      <td>yes</td>\n",
       "      <td>1991</td>\n",
       "      <td>320</td>\n",
       "    </tr>\n",
       "    <tr>\n",
       "      <td>1</td>\n",
       "      <td>Mercedes-Benz</td>\n",
       "      <td>7900</td>\n",
       "      <td>van</td>\n",
       "      <td>427</td>\n",
       "      <td>2.90</td>\n",
       "      <td>Diesel</td>\n",
       "      <td>yes</td>\n",
       "      <td>1999</td>\n",
       "      <td>Sprinter 212</td>\n",
       "    </tr>\n",
       "    <tr>\n",
       "      <td>2</td>\n",
       "      <td>Mercedes-Benz</td>\n",
       "      <td>13300</td>\n",
       "      <td>sedan</td>\n",
       "      <td>358</td>\n",
       "      <td>5.00</td>\n",
       "      <td>Gas</td>\n",
       "      <td>yes</td>\n",
       "      <td>2003</td>\n",
       "      <td>S 500</td>\n",
       "    </tr>\n",
       "    <tr>\n",
       "      <td>3</td>\n",
       "      <td>Audi</td>\n",
       "      <td>23000</td>\n",
       "      <td>crossover</td>\n",
       "      <td>240</td>\n",
       "      <td>4.20</td>\n",
       "      <td>Petrol</td>\n",
       "      <td>yes</td>\n",
       "      <td>2007</td>\n",
       "      <td>Q7</td>\n",
       "    </tr>\n",
       "    <tr>\n",
       "      <td>4</td>\n",
       "      <td>Toyota</td>\n",
       "      <td>18300</td>\n",
       "      <td>crossover</td>\n",
       "      <td>120</td>\n",
       "      <td>2.00</td>\n",
       "      <td>Petrol</td>\n",
       "      <td>yes</td>\n",
       "      <td>2011</td>\n",
       "      <td>Rav 4</td>\n",
       "    </tr>\n",
       "    <tr>\n",
       "      <td>5</td>\n",
       "      <td>Mercedes-Benz</td>\n",
       "      <td>199999</td>\n",
       "      <td>crossover</td>\n",
       "      <td>0</td>\n",
       "      <td>5.50</td>\n",
       "      <td>Petrol</td>\n",
       "      <td>yes</td>\n",
       "      <td>2016</td>\n",
       "      <td>GLS 63</td>\n",
       "    </tr>\n",
       "    <tr>\n",
       "      <td>6</td>\n",
       "      <td>BMW</td>\n",
       "      <td>6100</td>\n",
       "      <td>sedan</td>\n",
       "      <td>438</td>\n",
       "      <td>2.00</td>\n",
       "      <td>Gas</td>\n",
       "      <td>yes</td>\n",
       "      <td>1997</td>\n",
       "      <td>320</td>\n",
       "    </tr>\n",
       "    <tr>\n",
       "      <td>7</td>\n",
       "      <td>Audi</td>\n",
       "      <td>14200</td>\n",
       "      <td>vagon</td>\n",
       "      <td>200</td>\n",
       "      <td>2.70</td>\n",
       "      <td>Diesel</td>\n",
       "      <td>yes</td>\n",
       "      <td>2006</td>\n",
       "      <td>A6</td>\n",
       "    </tr>\n",
       "    <tr>\n",
       "      <td>8</td>\n",
       "      <td>Renault</td>\n",
       "      <td>10799</td>\n",
       "      <td>vagon</td>\n",
       "      <td>193</td>\n",
       "      <td>1.50</td>\n",
       "      <td>Diesel</td>\n",
       "      <td>yes</td>\n",
       "      <td>2012</td>\n",
       "      <td>Megane</td>\n",
       "    </tr>\n",
       "    <tr>\n",
       "      <td>9</td>\n",
       "      <td>Volkswagen</td>\n",
       "      <td>1400</td>\n",
       "      <td>other</td>\n",
       "      <td>212</td>\n",
       "      <td>1.80</td>\n",
       "      <td>Gas</td>\n",
       "      <td>no</td>\n",
       "      <td>1999</td>\n",
       "      <td>Golf IV</td>\n",
       "    </tr>\n",
       "    <tr>\n",
       "      <td>10</td>\n",
       "      <td>Renault</td>\n",
       "      <td>11950</td>\n",
       "      <td>vagon</td>\n",
       "      <td>177</td>\n",
       "      <td>1.50</td>\n",
       "      <td>Diesel</td>\n",
       "      <td>yes</td>\n",
       "      <td>2011</td>\n",
       "      <td>Megane</td>\n",
       "    </tr>\n",
       "    <tr>\n",
       "      <td>11</td>\n",
       "      <td>Renault</td>\n",
       "      <td>2500</td>\n",
       "      <td>sedan</td>\n",
       "      <td>260</td>\n",
       "      <td>1.79</td>\n",
       "      <td>Petrol</td>\n",
       "      <td>yes</td>\n",
       "      <td>1994</td>\n",
       "      <td>19</td>\n",
       "    </tr>\n",
       "    <tr>\n",
       "      <td>12</td>\n",
       "      <td>Audi</td>\n",
       "      <td>9500</td>\n",
       "      <td>vagon</td>\n",
       "      <td>165</td>\n",
       "      <td>2.70</td>\n",
       "      <td>Gas</td>\n",
       "      <td>yes</td>\n",
       "      <td>2003</td>\n",
       "      <td>A6 Allroad</td>\n",
       "    </tr>\n",
       "    <tr>\n",
       "      <td>13</td>\n",
       "      <td>Volkswagen</td>\n",
       "      <td>10500</td>\n",
       "      <td>sedan</td>\n",
       "      <td>100</td>\n",
       "      <td>1.80</td>\n",
       "      <td>Petrol</td>\n",
       "      <td>yes</td>\n",
       "      <td>2008</td>\n",
       "      <td>Passat B6</td>\n",
       "    </tr>\n",
       "    <tr>\n",
       "      <td>14</td>\n",
       "      <td>Toyota</td>\n",
       "      <td>16000</td>\n",
       "      <td>crossover</td>\n",
       "      <td>250</td>\n",
       "      <td>4.70</td>\n",
       "      <td>Gas</td>\n",
       "      <td>yes</td>\n",
       "      <td>2001</td>\n",
       "      <td>Land Cruiser 100</td>\n",
       "    </tr>\n",
       "    <tr>\n",
       "      <td>15</td>\n",
       "      <td>Renault</td>\n",
       "      <td>8600</td>\n",
       "      <td>hatch</td>\n",
       "      <td>84</td>\n",
       "      <td>1.50</td>\n",
       "      <td>Diesel</td>\n",
       "      <td>yes</td>\n",
       "      <td>2012</td>\n",
       "      <td>Clio</td>\n",
       "    </tr>\n",
       "    <tr>\n",
       "      <td>16</td>\n",
       "      <td>BMW</td>\n",
       "      <td>2990</td>\n",
       "      <td>other</td>\n",
       "      <td>203</td>\n",
       "      <td>2.00</td>\n",
       "      <td>Petrol</td>\n",
       "      <td>no</td>\n",
       "      <td>2001</td>\n",
       "      <td>318</td>\n",
       "    </tr>\n",
       "    <tr>\n",
       "      <td>18</td>\n",
       "      <td>Toyota</td>\n",
       "      <td>26500</td>\n",
       "      <td>crossover</td>\n",
       "      <td>21</td>\n",
       "      <td>2.00</td>\n",
       "      <td>Petrol</td>\n",
       "      <td>yes</td>\n",
       "      <td>2013</td>\n",
       "      <td>Rav 4</td>\n",
       "    </tr>\n",
       "    <tr>\n",
       "      <td>19</td>\n",
       "      <td>Audi</td>\n",
       "      <td>3500</td>\n",
       "      <td>vagon</td>\n",
       "      <td>250</td>\n",
       "      <td>2.50</td>\n",
       "      <td>Diesel</td>\n",
       "      <td>no</td>\n",
       "      <td>1998</td>\n",
       "      <td>A6</td>\n",
       "    </tr>\n",
       "  </tbody>\n",
       "</table>\n",
       "</div>"
      ],
      "text/plain": [
       "            Brand   Price       Body  Mileage  EngineV Engine Type  \\\n",
       "0             BMW    4200      sedan      277     2.00      Petrol   \n",
       "1   Mercedes-Benz    7900        van      427     2.90      Diesel   \n",
       "2   Mercedes-Benz   13300      sedan      358     5.00         Gas   \n",
       "3            Audi   23000  crossover      240     4.20      Petrol   \n",
       "4          Toyota   18300  crossover      120     2.00      Petrol   \n",
       "5   Mercedes-Benz  199999  crossover        0     5.50      Petrol   \n",
       "6             BMW    6100      sedan      438     2.00         Gas   \n",
       "7            Audi   14200      vagon      200     2.70      Diesel   \n",
       "8         Renault   10799      vagon      193     1.50      Diesel   \n",
       "9      Volkswagen    1400      other      212     1.80         Gas   \n",
       "10        Renault   11950      vagon      177     1.50      Diesel   \n",
       "11        Renault    2500      sedan      260     1.79      Petrol   \n",
       "12           Audi    9500      vagon      165     2.70         Gas   \n",
       "13     Volkswagen   10500      sedan      100     1.80      Petrol   \n",
       "14         Toyota   16000  crossover      250     4.70         Gas   \n",
       "15        Renault    8600      hatch       84     1.50      Diesel   \n",
       "16            BMW    2990      other      203     2.00      Petrol   \n",
       "18         Toyota   26500  crossover       21     2.00      Petrol   \n",
       "19           Audi    3500      vagon      250     2.50      Diesel   \n",
       "\n",
       "   Registration  Year             Model  \n",
       "0           yes  1991               320  \n",
       "1           yes  1999      Sprinter 212  \n",
       "2           yes  2003             S 500  \n",
       "3           yes  2007                Q7  \n",
       "4           yes  2011             Rav 4  \n",
       "5           yes  2016            GLS 63  \n",
       "6           yes  1997               320  \n",
       "7           yes  2006                A6  \n",
       "8           yes  2012            Megane  \n",
       "9            no  1999           Golf IV  \n",
       "10          yes  2011            Megane  \n",
       "11          yes  1994                19  \n",
       "12          yes  2003        A6 Allroad  \n",
       "13          yes  2008         Passat B6  \n",
       "14          yes  2001  Land Cruiser 100  \n",
       "15          yes  2012              Clio  \n",
       "16           no  2001               318  \n",
       "18          yes  2013             Rav 4  \n",
       "19           no  1998                A6  "
      ]
     },
     "execution_count": 14,
     "metadata": {},
     "output_type": "execute_result"
    }
   ],
   "source": [
    "df.head(19)"
   ]
  },
  {
   "cell_type": "code",
   "execution_count": null,
   "metadata": {},
   "outputs": [],
   "source": []
  },
  {
   "cell_type": "code",
   "execution_count": 15,
   "metadata": {},
   "outputs": [
    {
     "data": {
      "text/html": [
       "<div>\n",
       "<style scoped>\n",
       "    .dataframe tbody tr th:only-of-type {\n",
       "        vertical-align: middle;\n",
       "    }\n",
       "\n",
       "    .dataframe tbody tr th {\n",
       "        vertical-align: top;\n",
       "    }\n",
       "\n",
       "    .dataframe thead th {\n",
       "        text-align: right;\n",
       "    }\n",
       "</style>\n",
       "<table border=\"1\" class=\"dataframe\">\n",
       "  <thead>\n",
       "    <tr style=\"text-align: right;\">\n",
       "      <th></th>\n",
       "      <th>Brand</th>\n",
       "      <th>Price</th>\n",
       "      <th>Body</th>\n",
       "      <th>Mileage</th>\n",
       "      <th>EngineV</th>\n",
       "      <th>Engine Type</th>\n",
       "      <th>Registration</th>\n",
       "      <th>Year</th>\n",
       "      <th>Model</th>\n",
       "    </tr>\n",
       "  </thead>\n",
       "  <tbody>\n",
       "    <tr>\n",
       "      <td>0</td>\n",
       "      <td>BMW</td>\n",
       "      <td>4200</td>\n",
       "      <td>sedan</td>\n",
       "      <td>277</td>\n",
       "      <td>2.0</td>\n",
       "      <td>Petrol</td>\n",
       "      <td>yes</td>\n",
       "      <td>1991</td>\n",
       "      <td>320</td>\n",
       "    </tr>\n",
       "    <tr>\n",
       "      <td>1</td>\n",
       "      <td>Mercedes-Benz</td>\n",
       "      <td>7900</td>\n",
       "      <td>van</td>\n",
       "      <td>427</td>\n",
       "      <td>2.9</td>\n",
       "      <td>Diesel</td>\n",
       "      <td>yes</td>\n",
       "      <td>1999</td>\n",
       "      <td>Sprinter 212</td>\n",
       "    </tr>\n",
       "    <tr>\n",
       "      <td>2</td>\n",
       "      <td>Mercedes-Benz</td>\n",
       "      <td>13300</td>\n",
       "      <td>sedan</td>\n",
       "      <td>358</td>\n",
       "      <td>5.0</td>\n",
       "      <td>Gas</td>\n",
       "      <td>yes</td>\n",
       "      <td>2003</td>\n",
       "      <td>S 500</td>\n",
       "    </tr>\n",
       "    <tr>\n",
       "      <td>3</td>\n",
       "      <td>Audi</td>\n",
       "      <td>23000</td>\n",
       "      <td>crossover</td>\n",
       "      <td>240</td>\n",
       "      <td>4.2</td>\n",
       "      <td>Petrol</td>\n",
       "      <td>yes</td>\n",
       "      <td>2007</td>\n",
       "      <td>Q7</td>\n",
       "    </tr>\n",
       "    <tr>\n",
       "      <td>4</td>\n",
       "      <td>Toyota</td>\n",
       "      <td>18300</td>\n",
       "      <td>crossover</td>\n",
       "      <td>120</td>\n",
       "      <td>2.0</td>\n",
       "      <td>Petrol</td>\n",
       "      <td>yes</td>\n",
       "      <td>2011</td>\n",
       "      <td>Rav 4</td>\n",
       "    </tr>\n",
       "    <tr>\n",
       "      <td>...</td>\n",
       "      <td>...</td>\n",
       "      <td>...</td>\n",
       "      <td>...</td>\n",
       "      <td>...</td>\n",
       "      <td>...</td>\n",
       "      <td>...</td>\n",
       "      <td>...</td>\n",
       "      <td>...</td>\n",
       "      <td>...</td>\n",
       "    </tr>\n",
       "    <tr>\n",
       "      <td>4339</td>\n",
       "      <td>Toyota</td>\n",
       "      <td>17900</td>\n",
       "      <td>sedan</td>\n",
       "      <td>35</td>\n",
       "      <td>1.6</td>\n",
       "      <td>Petrol</td>\n",
       "      <td>yes</td>\n",
       "      <td>2014</td>\n",
       "      <td>Corolla</td>\n",
       "    </tr>\n",
       "    <tr>\n",
       "      <td>4340</td>\n",
       "      <td>Mercedes-Benz</td>\n",
       "      <td>125000</td>\n",
       "      <td>sedan</td>\n",
       "      <td>9</td>\n",
       "      <td>3.0</td>\n",
       "      <td>Diesel</td>\n",
       "      <td>yes</td>\n",
       "      <td>2014</td>\n",
       "      <td>S 350</td>\n",
       "    </tr>\n",
       "    <tr>\n",
       "      <td>4341</td>\n",
       "      <td>BMW</td>\n",
       "      <td>6500</td>\n",
       "      <td>sedan</td>\n",
       "      <td>1</td>\n",
       "      <td>3.5</td>\n",
       "      <td>Petrol</td>\n",
       "      <td>yes</td>\n",
       "      <td>1999</td>\n",
       "      <td>535</td>\n",
       "    </tr>\n",
       "    <tr>\n",
       "      <td>4342</td>\n",
       "      <td>BMW</td>\n",
       "      <td>8000</td>\n",
       "      <td>sedan</td>\n",
       "      <td>194</td>\n",
       "      <td>2.0</td>\n",
       "      <td>Petrol</td>\n",
       "      <td>yes</td>\n",
       "      <td>1985</td>\n",
       "      <td>520</td>\n",
       "    </tr>\n",
       "    <tr>\n",
       "      <td>4344</td>\n",
       "      <td>Volkswagen</td>\n",
       "      <td>13500</td>\n",
       "      <td>van</td>\n",
       "      <td>124</td>\n",
       "      <td>2.0</td>\n",
       "      <td>Diesel</td>\n",
       "      <td>yes</td>\n",
       "      <td>2013</td>\n",
       "      <td>T5 (Transporter)</td>\n",
       "    </tr>\n",
       "  </tbody>\n",
       "</table>\n",
       "<p>4025 rows × 9 columns</p>\n",
       "</div>"
      ],
      "text/plain": [
       "              Brand   Price       Body  Mileage  EngineV Engine Type  \\\n",
       "0               BMW    4200      sedan      277      2.0      Petrol   \n",
       "1     Mercedes-Benz    7900        van      427      2.9      Diesel   \n",
       "2     Mercedes-Benz   13300      sedan      358      5.0         Gas   \n",
       "3              Audi   23000  crossover      240      4.2      Petrol   \n",
       "4            Toyota   18300  crossover      120      2.0      Petrol   \n",
       "...             ...     ...        ...      ...      ...         ...   \n",
       "4339         Toyota   17900      sedan       35      1.6      Petrol   \n",
       "4340  Mercedes-Benz  125000      sedan        9      3.0      Diesel   \n",
       "4341            BMW    6500      sedan        1      3.5      Petrol   \n",
       "4342            BMW    8000      sedan      194      2.0      Petrol   \n",
       "4344     Volkswagen   13500        van      124      2.0      Diesel   \n",
       "\n",
       "     Registration  Year              Model  \n",
       "0             yes  1991                320  \n",
       "1             yes  1999       Sprinter 212  \n",
       "2             yes  2003              S 500  \n",
       "3             yes  2007                 Q7  \n",
       "4             yes  2011              Rav 4  \n",
       "...           ...   ...                ...  \n",
       "4339          yes  2014            Corolla  \n",
       "4340          yes  2014              S 350  \n",
       "4341          yes  1999                535  \n",
       "4342          yes  1985                520  \n",
       "4344          yes  2013  T5 (Transporter)   \n",
       "\n",
       "[4025 rows x 9 columns]"
      ]
     },
     "execution_count": 15,
     "metadata": {},
     "output_type": "execute_result"
    }
   ],
   "source": [
    "df"
   ]
  },
  {
   "cell_type": "code",
   "execution_count": 16,
   "metadata": {},
   "outputs": [],
   "source": [
    "def normalize_vector(\n",
    "        series: list, new_min: float = 0, new_max: float = 1) -> np.ndarray:\n",
    "    upper = (series - np.min(series)) * (new_max - new_min)\n",
    "    return upper / (np.max(series) - np.min(series)) + new_min"
   ]
  },
  {
   "cell_type": "code",
   "execution_count": 17,
   "metadata": {},
   "outputs": [],
   "source": [
    "mileage = df['Mileage']\n",
    "norm_mileage = normalize_vector(mileage)\n",
    "df['Mileage'] = norm_mileage\n",
    "\n",
    "engine_vol = df['EngineV']\n",
    "norm_engine_vol = normalize_vector(engine_vol)\n",
    "df['EngineV'] = norm_engine_vol\n",
    "\n",
    "\n",
    "\n",
    "year = df['Year']\n",
    "norm_year = normalize_vector(year)\n",
    "df['Year'] = norm_year\n"
   ]
  },
  {
   "cell_type": "code",
   "execution_count": 18,
   "metadata": {},
   "outputs": [
    {
     "data": {
      "text/html": [
       "<div>\n",
       "<style scoped>\n",
       "    .dataframe tbody tr th:only-of-type {\n",
       "        vertical-align: middle;\n",
       "    }\n",
       "\n",
       "    .dataframe tbody tr th {\n",
       "        vertical-align: top;\n",
       "    }\n",
       "\n",
       "    .dataframe thead th {\n",
       "        text-align: right;\n",
       "    }\n",
       "</style>\n",
       "<table border=\"1\" class=\"dataframe\">\n",
       "  <thead>\n",
       "    <tr style=\"text-align: right;\">\n",
       "      <th></th>\n",
       "      <th>Brand</th>\n",
       "      <th>Price</th>\n",
       "      <th>Body</th>\n",
       "      <th>Mileage</th>\n",
       "      <th>EngineV</th>\n",
       "      <th>Engine Type</th>\n",
       "      <th>Registration</th>\n",
       "      <th>Year</th>\n",
       "      <th>Model</th>\n",
       "    </tr>\n",
       "  </thead>\n",
       "  <tbody>\n",
       "    <tr>\n",
       "      <td>0</td>\n",
       "      <td>BMW</td>\n",
       "      <td>4200</td>\n",
       "      <td>sedan</td>\n",
       "      <td>0.282653</td>\n",
       "      <td>0.014086</td>\n",
       "      <td>Petrol</td>\n",
       "      <td>yes</td>\n",
       "      <td>0.468085</td>\n",
       "      <td>320</td>\n",
       "    </tr>\n",
       "    <tr>\n",
       "      <td>1</td>\n",
       "      <td>Mercedes-Benz</td>\n",
       "      <td>7900</td>\n",
       "      <td>van</td>\n",
       "      <td>0.435714</td>\n",
       "      <td>0.023141</td>\n",
       "      <td>Diesel</td>\n",
       "      <td>yes</td>\n",
       "      <td>0.638298</td>\n",
       "      <td>Sprinter 212</td>\n",
       "    </tr>\n",
       "    <tr>\n",
       "      <td>2</td>\n",
       "      <td>Mercedes-Benz</td>\n",
       "      <td>13300</td>\n",
       "      <td>sedan</td>\n",
       "      <td>0.365306</td>\n",
       "      <td>0.044270</td>\n",
       "      <td>Gas</td>\n",
       "      <td>yes</td>\n",
       "      <td>0.723404</td>\n",
       "      <td>S 500</td>\n",
       "    </tr>\n",
       "    <tr>\n",
       "      <td>3</td>\n",
       "      <td>Audi</td>\n",
       "      <td>23000</td>\n",
       "      <td>crossover</td>\n",
       "      <td>0.244898</td>\n",
       "      <td>0.036221</td>\n",
       "      <td>Petrol</td>\n",
       "      <td>yes</td>\n",
       "      <td>0.808511</td>\n",
       "      <td>Q7</td>\n",
       "    </tr>\n",
       "    <tr>\n",
       "      <td>4</td>\n",
       "      <td>Toyota</td>\n",
       "      <td>18300</td>\n",
       "      <td>crossover</td>\n",
       "      <td>0.122449</td>\n",
       "      <td>0.014086</td>\n",
       "      <td>Petrol</td>\n",
       "      <td>yes</td>\n",
       "      <td>0.893617</td>\n",
       "      <td>Rav 4</td>\n",
       "    </tr>\n",
       "    <tr>\n",
       "      <td>...</td>\n",
       "      <td>...</td>\n",
       "      <td>...</td>\n",
       "      <td>...</td>\n",
       "      <td>...</td>\n",
       "      <td>...</td>\n",
       "      <td>...</td>\n",
       "      <td>...</td>\n",
       "      <td>...</td>\n",
       "      <td>...</td>\n",
       "    </tr>\n",
       "    <tr>\n",
       "      <td>4339</td>\n",
       "      <td>Toyota</td>\n",
       "      <td>17900</td>\n",
       "      <td>sedan</td>\n",
       "      <td>0.035714</td>\n",
       "      <td>0.010061</td>\n",
       "      <td>Petrol</td>\n",
       "      <td>yes</td>\n",
       "      <td>0.957447</td>\n",
       "      <td>Corolla</td>\n",
       "    </tr>\n",
       "    <tr>\n",
       "      <td>4340</td>\n",
       "      <td>Mercedes-Benz</td>\n",
       "      <td>125000</td>\n",
       "      <td>sedan</td>\n",
       "      <td>0.009184</td>\n",
       "      <td>0.024147</td>\n",
       "      <td>Diesel</td>\n",
       "      <td>yes</td>\n",
       "      <td>0.957447</td>\n",
       "      <td>S 350</td>\n",
       "    </tr>\n",
       "    <tr>\n",
       "      <td>4341</td>\n",
       "      <td>BMW</td>\n",
       "      <td>6500</td>\n",
       "      <td>sedan</td>\n",
       "      <td>0.001020</td>\n",
       "      <td>0.029178</td>\n",
       "      <td>Petrol</td>\n",
       "      <td>yes</td>\n",
       "      <td>0.638298</td>\n",
       "      <td>535</td>\n",
       "    </tr>\n",
       "    <tr>\n",
       "      <td>4342</td>\n",
       "      <td>BMW</td>\n",
       "      <td>8000</td>\n",
       "      <td>sedan</td>\n",
       "      <td>0.197959</td>\n",
       "      <td>0.014086</td>\n",
       "      <td>Petrol</td>\n",
       "      <td>yes</td>\n",
       "      <td>0.340426</td>\n",
       "      <td>520</td>\n",
       "    </tr>\n",
       "    <tr>\n",
       "      <td>4344</td>\n",
       "      <td>Volkswagen</td>\n",
       "      <td>13500</td>\n",
       "      <td>van</td>\n",
       "      <td>0.126531</td>\n",
       "      <td>0.014086</td>\n",
       "      <td>Diesel</td>\n",
       "      <td>yes</td>\n",
       "      <td>0.936170</td>\n",
       "      <td>T5 (Transporter)</td>\n",
       "    </tr>\n",
       "  </tbody>\n",
       "</table>\n",
       "<p>4025 rows × 9 columns</p>\n",
       "</div>"
      ],
      "text/plain": [
       "              Brand   Price       Body   Mileage   EngineV Engine Type  \\\n",
       "0               BMW    4200      sedan  0.282653  0.014086      Petrol   \n",
       "1     Mercedes-Benz    7900        van  0.435714  0.023141      Diesel   \n",
       "2     Mercedes-Benz   13300      sedan  0.365306  0.044270         Gas   \n",
       "3              Audi   23000  crossover  0.244898  0.036221      Petrol   \n",
       "4            Toyota   18300  crossover  0.122449  0.014086      Petrol   \n",
       "...             ...     ...        ...       ...       ...         ...   \n",
       "4339         Toyota   17900      sedan  0.035714  0.010061      Petrol   \n",
       "4340  Mercedes-Benz  125000      sedan  0.009184  0.024147      Diesel   \n",
       "4341            BMW    6500      sedan  0.001020  0.029178      Petrol   \n",
       "4342            BMW    8000      sedan  0.197959  0.014086      Petrol   \n",
       "4344     Volkswagen   13500        van  0.126531  0.014086      Diesel   \n",
       "\n",
       "     Registration      Year              Model  \n",
       "0             yes  0.468085                320  \n",
       "1             yes  0.638298       Sprinter 212  \n",
       "2             yes  0.723404              S 500  \n",
       "3             yes  0.808511                 Q7  \n",
       "4             yes  0.893617              Rav 4  \n",
       "...           ...       ...                ...  \n",
       "4339          yes  0.957447            Corolla  \n",
       "4340          yes  0.957447              S 350  \n",
       "4341          yes  0.638298                535  \n",
       "4342          yes  0.340426                520  \n",
       "4344          yes  0.936170  T5 (Transporter)   \n",
       "\n",
       "[4025 rows x 9 columns]"
      ]
     },
     "execution_count": 18,
     "metadata": {},
     "output_type": "execute_result"
    }
   ],
   "source": [
    "df"
   ]
  },
  {
   "cell_type": "code",
   "execution_count": null,
   "metadata": {},
   "outputs": [],
   "source": []
  },
  {
   "cell_type": "code",
   "execution_count": 19,
   "metadata": {},
   "outputs": [
    {
     "data": {
      "text/plain": [
       "array(['BMW', 'Mercedes-Benz', 'Audi', 'Toyota', 'Renault', 'Volkswagen',\n",
       "       'Mitsubishi'], dtype=object)"
      ]
     },
     "execution_count": 19,
     "metadata": {},
     "output_type": "execute_result"
    }
   ],
   "source": [
    "df['Brand'].unique()"
   ]
  },
  {
   "cell_type": "code",
   "execution_count": 20,
   "metadata": {},
   "outputs": [
    {
     "data": {
      "text/plain": [
       "array(['sedan', 'van', 'crossover', 'vagon', 'other', 'hatch'],\n",
       "      dtype=object)"
      ]
     },
     "execution_count": 20,
     "metadata": {},
     "output_type": "execute_result"
    }
   ],
   "source": [
    "df['Body'].unique()"
   ]
  },
  {
   "cell_type": "code",
   "execution_count": 21,
   "metadata": {},
   "outputs": [
    {
     "data": {
      "text/plain": [
       "array(['Petrol', 'Diesel', 'Gas', 'Other'], dtype=object)"
      ]
     },
     "execution_count": 21,
     "metadata": {},
     "output_type": "execute_result"
    }
   ],
   "source": [
    "df['Engine Type'].unique()"
   ]
  },
  {
   "cell_type": "code",
   "execution_count": 22,
   "metadata": {},
   "outputs": [
    {
     "data": {
      "text/plain": [
       "array(['yes', 'no'], dtype=object)"
      ]
     },
     "execution_count": 22,
     "metadata": {},
     "output_type": "execute_result"
    }
   ],
   "source": [
    "df['Registration'].unique()"
   ]
  },
  {
   "cell_type": "code",
   "execution_count": 23,
   "metadata": {
    "scrolled": true
   },
   "outputs": [
    {
     "data": {
      "text/plain": [
       "array(['320', 'Sprinter 212', 'S 500', 'Q7', 'Rav 4', 'GLS 63', 'A6',\n",
       "       'Megane', 'Golf IV', '19', 'A6 Allroad', 'Passat B6',\n",
       "       'Land Cruiser 100', 'Clio', '318', 'Hilux', 'Polo', 'Outlander',\n",
       "       'A8', 'Touareg', 'Vito', 'Colt', '100', 'Z4', 'Pajero Wagon', 'X5',\n",
       "       'Caddy', 'Camry', '528', 'TT', 'G 55 AMG', 'X6', 'Galant', '525',\n",
       "       'Kangoo', 'ML 350', '730', 'Trafic', 'X5 M', 'S 350', 'Lancer',\n",
       "       'E-Class', 'Scenic', '330', 'Passat B5', 'A3',\n",
       "       'Land Cruiser Prado', 'Caravelle', 'Avensis', 'GL 320', 'GL 450',\n",
       "       'Lancer X', '200', '520', 'Tiguan', 'Outlander XL', 'GLS 350',\n",
       "       'A5', 'X6 M', 'Golf III', 'A 150', 'FJ Cruiser', 'Koleos',\n",
       "       'Land Cruiser 200', 'Passat B7', 'Scirocco', 'M5', 'Venza', '80',\n",
       "       'V 250', 'ML 270', 'C-Class', 'Lupo', '5 Series', 'CLA 200',\n",
       "       'T5 (Transporter)', 'Highlander', 'Corolla', 'CLK 240', 'I3',\n",
       "       'Multivan', 'Vaneo', 'X1', 'T5 (Transporter) ', 'S 400', 'S 550',\n",
       "       'Passat CC', 'A4 Allroad', 'Passat B4', 'Golf II', 'L 200',\n",
       "       'Jetta', 'Logan', 'Pajero Sport', 'Sprinter 312',\n",
       "       'Lancer X Sportback', 'Golf Plus', 'Up', 'Amarok', 'Passat B3',\n",
       "       'G 320', 'Auris', '530', 'CL 500', 'Master', 'Dokker', '540',\n",
       "       'ML 320', 'Golf VI', 'Golf VII', 'A 170', 'Laguna', 'New Beetle',\n",
       "       'Pajero', 'Sprinter 319', 'Viano', 'Sharan', 'Prius', 'B 180',\n",
       "       'Fluence', '90', 'T4 (Transporter)', 'Duster', '190', '523',\n",
       "       'Hiace', '745', 'S 320', 'CLC 200', 'A4', '325', 'Sprinter 316',\n",
       "       'Golf V', 'Fortuner', 'LT', 'Symbol', 'A7', '640', 'Yaris',\n",
       "       'CLK 200', 'X3', 'Sprinter 313', 'S 600', 'Z3', '735', 'Espace',\n",
       "       'Golf Variant', 'Touran', 'Q5', 'Sprinter 211', 'Tacoma', '328',\n",
       "       'Q3', 'Phaeton', 'CLK 220', 'Sprinter 318', 'Grand Scenic',\n",
       "       'Land Cruiser 76', 'ML 280', 'Land Cruiser 80', 'CL 63 AMG',\n",
       "       'T6 (Transporter) ', 'R8', 'GLE-Class', '116', 'M6', 'S 63 AMG',\n",
       "       'Sandero', 'CLK 320', 'SLK 200', 'CLK 280', '535', '118',\n",
       "       'ML 63 AMG', '550', 'Pajero Pinin', 'Bora', '750', 'GLK 220',\n",
       "       'ML 250', 'IQ', 'Celica', 'S 280', '5 Series GT', '740', 'S4',\n",
       "       'CLK 430', 'A1', '300', '1 Series', 'Grandis', 'Tundra', 'G 500',\n",
       "       'GL 350', 'ASX', 'CLS 350', 'Sienna', 'T4 (Transporter) ', 'B 200',\n",
       "       'Vento', '323', '524', '645', 'Passat B2', 'T6 (Transporter)',\n",
       "       'A 140', 'Latitude', 'Space Star', 'Passat B8', '230', 'Previa',\n",
       "       'GLS 500', 'Beetle', 'Sprinter 311', 'Carisma', 'Eclipse',\n",
       "       'Carina', 'S 55', 'T3 (Transporter)', 'Vista', '25', '21', '316',\n",
       "       'S5', '5', 'GL 550', 'B 170', '9', 'GL 420', 'A 180', '335',\n",
       "       'Avalon', 'G 63 AMG', 'S8', 'Modus', 'R 320', 'Aygo', 'GL 500',\n",
       "       'S 140', 'Sprinter', 'Cross Touran', 'Matrix', '210', '630',\n",
       "       'ML 430', 'G 350', 'S 65 AMG', 'Virage', 'Land Cruiser 105',\n",
       "       'Sprinter 208', 'CLS 400', '250', 'S 430', 'CLK 230', '220',\n",
       "       'Space Wagon', 'GLS 400', 'CL 550', 'Smart', 'SL 500 (550)',\n",
       "       'Sprinter 210', 'S 300', 'MB', 'CLS 500', 'CL 55 AMG', 'S 250',\n",
       "       'SLK 350', 'Sprinter 213', 'ML 400', 'Mark II', 'Lancer Evolution',\n",
       "       'CL 180', 'CLS 63 AMG', 'Corolla Verso', 'CLA-Class',\n",
       "       '4 Series Gran Coupe', '120', '428', 'GLK 300', 'Pointer',\n",
       "       'Captur', 'S-Guard', '760', 'GLC-Class', 'Sandero StepWay',\n",
       "       'CLA 220', '545', 'Eos', 'ML 550', 'CLC 180', 'Golf GTI', 'ML 500',\n",
       "       '324', 'S 420', 'T2 (Transporter)', '6 Series Gran Coupe',\n",
       "       'SL 55 AMG', '650', 'Sprinter 324', 'Lite Ace', '4Runner',\n",
       "       'Sequoia', '11', 'Sprinter 315', 'Syncro', 'Scion'], dtype=object)"
      ]
     },
     "execution_count": 23,
     "metadata": {},
     "output_type": "execute_result"
    }
   ],
   "source": [
    "df['Model'].unique()"
   ]
  },
  {
   "cell_type": "code",
   "execution_count": 24,
   "metadata": {},
   "outputs": [
    {
     "name": "stdout",
     "output_type": "stream",
     "text": [
      "306\n"
     ]
    }
   ],
   "source": [
    "print(len(df['Model'].unique()))"
   ]
  },
  {
   "cell_type": "markdown",
   "metadata": {},
   "source": [
    "A map is required to map all of the 306 unique values in the dataset for the model column"
   ]
  },
  {
   "cell_type": "code",
   "execution_count": 25,
   "metadata": {},
   "outputs": [],
   "source": [
    "magic_map = {}"
   ]
  },
  {
   "cell_type": "code",
   "execution_count": 26,
   "metadata": {},
   "outputs": [],
   "source": [
    "list_unique_vals = list(df['Model'].unique())"
   ]
  },
  {
   "cell_type": "code",
   "execution_count": 27,
   "metadata": {},
   "outputs": [],
   "source": [
    "y = 0\n",
    "for x in list_unique_vals:\n",
    "    \n",
    "    magic_map[x] = y\n",
    "    y += 1\n",
    "    \n",
    "    "
   ]
  },
  {
   "cell_type": "code",
   "execution_count": 28,
   "metadata": {},
   "outputs": [
    {
     "data": {
      "text/plain": [
       "{'320': 0,\n",
       " 'Sprinter 212': 1,\n",
       " 'S 500': 2,\n",
       " 'Q7': 3,\n",
       " 'Rav 4': 4,\n",
       " 'GLS 63': 5,\n",
       " 'A6': 6,\n",
       " 'Megane': 7,\n",
       " 'Golf IV': 8,\n",
       " '19': 9,\n",
       " 'A6 Allroad': 10,\n",
       " 'Passat B6': 11,\n",
       " 'Land Cruiser 100': 12,\n",
       " 'Clio': 13,\n",
       " '318': 14,\n",
       " 'Hilux': 15,\n",
       " 'Polo': 16,\n",
       " 'Outlander': 17,\n",
       " 'A8': 18,\n",
       " 'Touareg': 19,\n",
       " 'Vito': 20,\n",
       " 'Colt': 21,\n",
       " '100': 22,\n",
       " 'Z4': 23,\n",
       " 'Pajero Wagon': 24,\n",
       " 'X5': 25,\n",
       " 'Caddy': 26,\n",
       " 'Camry': 27,\n",
       " '528': 28,\n",
       " 'TT': 29,\n",
       " 'G 55 AMG': 30,\n",
       " 'X6': 31,\n",
       " 'Galant': 32,\n",
       " '525': 33,\n",
       " 'Kangoo': 34,\n",
       " 'ML 350': 35,\n",
       " '730': 36,\n",
       " 'Trafic': 37,\n",
       " 'X5 M': 38,\n",
       " 'S 350': 39,\n",
       " 'Lancer': 40,\n",
       " 'E-Class': 41,\n",
       " 'Scenic': 42,\n",
       " '330': 43,\n",
       " 'Passat B5': 44,\n",
       " 'A3': 45,\n",
       " 'Land Cruiser Prado': 46,\n",
       " 'Caravelle': 47,\n",
       " 'Avensis': 48,\n",
       " 'GL 320': 49,\n",
       " 'GL 450': 50,\n",
       " 'Lancer X': 51,\n",
       " '200': 52,\n",
       " '520': 53,\n",
       " 'Tiguan': 54,\n",
       " 'Outlander XL': 55,\n",
       " 'GLS 350': 56,\n",
       " 'A5': 57,\n",
       " 'X6 M': 58,\n",
       " 'Golf III': 59,\n",
       " 'A 150': 60,\n",
       " 'FJ Cruiser': 61,\n",
       " 'Koleos': 62,\n",
       " 'Land Cruiser 200': 63,\n",
       " 'Passat B7': 64,\n",
       " 'Scirocco': 65,\n",
       " 'M5': 66,\n",
       " 'Venza': 67,\n",
       " '80': 68,\n",
       " 'V 250': 69,\n",
       " 'ML 270': 70,\n",
       " 'C-Class': 71,\n",
       " 'Lupo': 72,\n",
       " '5 Series': 73,\n",
       " 'CLA 200': 74,\n",
       " 'T5 (Transporter)': 75,\n",
       " 'Highlander': 76,\n",
       " 'Corolla': 77,\n",
       " 'CLK 240': 78,\n",
       " 'I3': 79,\n",
       " 'Multivan': 80,\n",
       " 'Vaneo': 81,\n",
       " 'X1': 82,\n",
       " 'T5 (Transporter) ': 83,\n",
       " 'S 400': 84,\n",
       " 'S 550': 85,\n",
       " 'Passat CC': 86,\n",
       " 'A4 Allroad': 87,\n",
       " 'Passat B4': 88,\n",
       " 'Golf II': 89,\n",
       " 'L 200': 90,\n",
       " 'Jetta': 91,\n",
       " 'Logan': 92,\n",
       " 'Pajero Sport': 93,\n",
       " 'Sprinter 312': 94,\n",
       " 'Lancer X Sportback': 95,\n",
       " 'Golf Plus': 96,\n",
       " 'Up': 97,\n",
       " 'Amarok': 98,\n",
       " 'Passat B3': 99,\n",
       " 'G 320': 100,\n",
       " 'Auris': 101,\n",
       " '530': 102,\n",
       " 'CL 500': 103,\n",
       " 'Master': 104,\n",
       " 'Dokker': 105,\n",
       " '540': 106,\n",
       " 'ML 320': 107,\n",
       " 'Golf VI': 108,\n",
       " 'Golf VII': 109,\n",
       " 'A 170': 110,\n",
       " 'Laguna': 111,\n",
       " 'New Beetle': 112,\n",
       " 'Pajero': 113,\n",
       " 'Sprinter 319': 114,\n",
       " 'Viano': 115,\n",
       " 'Sharan': 116,\n",
       " 'Prius': 117,\n",
       " 'B 180': 118,\n",
       " 'Fluence': 119,\n",
       " '90': 120,\n",
       " 'T4 (Transporter)': 121,\n",
       " 'Duster': 122,\n",
       " '190': 123,\n",
       " '523': 124,\n",
       " 'Hiace': 125,\n",
       " '745': 126,\n",
       " 'S 320': 127,\n",
       " 'CLC 200': 128,\n",
       " 'A4': 129,\n",
       " '325': 130,\n",
       " 'Sprinter 316': 131,\n",
       " 'Golf V': 132,\n",
       " 'Fortuner': 133,\n",
       " 'LT': 134,\n",
       " 'Symbol': 135,\n",
       " 'A7': 136,\n",
       " '640': 137,\n",
       " 'Yaris': 138,\n",
       " 'CLK 200': 139,\n",
       " 'X3': 140,\n",
       " 'Sprinter 313': 141,\n",
       " 'S 600': 142,\n",
       " 'Z3': 143,\n",
       " '735': 144,\n",
       " 'Espace': 145,\n",
       " 'Golf Variant': 146,\n",
       " 'Touran': 147,\n",
       " 'Q5': 148,\n",
       " 'Sprinter 211': 149,\n",
       " 'Tacoma': 150,\n",
       " '328': 151,\n",
       " 'Q3': 152,\n",
       " 'Phaeton': 153,\n",
       " 'CLK 220': 154,\n",
       " 'Sprinter 318': 155,\n",
       " 'Grand Scenic': 156,\n",
       " 'Land Cruiser 76': 157,\n",
       " 'ML 280': 158,\n",
       " 'Land Cruiser 80': 159,\n",
       " 'CL 63 AMG': 160,\n",
       " 'T6 (Transporter) ': 161,\n",
       " 'R8': 162,\n",
       " 'GLE-Class': 163,\n",
       " '116': 164,\n",
       " 'M6': 165,\n",
       " 'S 63 AMG': 166,\n",
       " 'Sandero': 167,\n",
       " 'CLK 320': 168,\n",
       " 'SLK 200': 169,\n",
       " 'CLK 280': 170,\n",
       " '535': 171,\n",
       " '118': 172,\n",
       " 'ML 63 AMG': 173,\n",
       " '550': 174,\n",
       " 'Pajero Pinin': 175,\n",
       " 'Bora': 176,\n",
       " '750': 177,\n",
       " 'GLK 220': 178,\n",
       " 'ML 250': 179,\n",
       " 'IQ': 180,\n",
       " 'Celica': 181,\n",
       " 'S 280': 182,\n",
       " '5 Series GT': 183,\n",
       " '740': 184,\n",
       " 'S4': 185,\n",
       " 'CLK 430': 186,\n",
       " 'A1': 187,\n",
       " '300': 188,\n",
       " '1 Series': 189,\n",
       " 'Grandis': 190,\n",
       " 'Tundra': 191,\n",
       " 'G 500': 192,\n",
       " 'GL 350': 193,\n",
       " 'ASX': 194,\n",
       " 'CLS 350': 195,\n",
       " 'Sienna': 196,\n",
       " 'T4 (Transporter) ': 197,\n",
       " 'B 200': 198,\n",
       " 'Vento': 199,\n",
       " '323': 200,\n",
       " '524': 201,\n",
       " '645': 202,\n",
       " 'Passat B2': 203,\n",
       " 'T6 (Transporter)': 204,\n",
       " 'A 140': 205,\n",
       " 'Latitude': 206,\n",
       " 'Space Star': 207,\n",
       " 'Passat B8': 208,\n",
       " '230': 209,\n",
       " 'Previa': 210,\n",
       " 'GLS 500': 211,\n",
       " 'Beetle': 212,\n",
       " 'Sprinter 311': 213,\n",
       " 'Carisma': 214,\n",
       " 'Eclipse': 215,\n",
       " 'Carina': 216,\n",
       " 'S 55': 217,\n",
       " 'T3 (Transporter)': 218,\n",
       " 'Vista': 219,\n",
       " '25': 220,\n",
       " '21': 221,\n",
       " '316': 222,\n",
       " 'S5': 223,\n",
       " '5': 224,\n",
       " 'GL 550': 225,\n",
       " 'B 170': 226,\n",
       " '9': 227,\n",
       " 'GL 420': 228,\n",
       " 'A 180': 229,\n",
       " '335': 230,\n",
       " 'Avalon': 231,\n",
       " 'G 63 AMG': 232,\n",
       " 'S8': 233,\n",
       " 'Modus': 234,\n",
       " 'R 320': 235,\n",
       " 'Aygo': 236,\n",
       " 'GL 500': 237,\n",
       " 'S 140': 238,\n",
       " 'Sprinter': 239,\n",
       " 'Cross Touran': 240,\n",
       " 'Matrix': 241,\n",
       " '210': 242,\n",
       " '630': 243,\n",
       " 'ML 430': 244,\n",
       " 'G 350': 245,\n",
       " 'S 65 AMG': 246,\n",
       " 'Virage': 247,\n",
       " 'Land Cruiser 105': 248,\n",
       " 'Sprinter 208': 249,\n",
       " 'CLS 400': 250,\n",
       " '250': 251,\n",
       " 'S 430': 252,\n",
       " 'CLK 230': 253,\n",
       " '220': 254,\n",
       " 'Space Wagon': 255,\n",
       " 'GLS 400': 256,\n",
       " 'CL 550': 257,\n",
       " 'Smart': 258,\n",
       " 'SL 500 (550)': 259,\n",
       " 'Sprinter 210': 260,\n",
       " 'S 300': 261,\n",
       " 'MB': 262,\n",
       " 'CLS 500': 263,\n",
       " 'CL 55 AMG': 264,\n",
       " 'S 250': 265,\n",
       " 'SLK 350': 266,\n",
       " 'Sprinter 213': 267,\n",
       " 'ML 400': 268,\n",
       " 'Mark II': 269,\n",
       " 'Lancer Evolution': 270,\n",
       " 'CL 180': 271,\n",
       " 'CLS 63 AMG': 272,\n",
       " 'Corolla Verso': 273,\n",
       " 'CLA-Class': 274,\n",
       " '4 Series Gran Coupe': 275,\n",
       " '120': 276,\n",
       " '428': 277,\n",
       " 'GLK 300': 278,\n",
       " 'Pointer': 279,\n",
       " 'Captur': 280,\n",
       " 'S-Guard': 281,\n",
       " '760': 282,\n",
       " 'GLC-Class': 283,\n",
       " 'Sandero StepWay': 284,\n",
       " 'CLA 220': 285,\n",
       " '545': 286,\n",
       " 'Eos': 287,\n",
       " 'ML 550': 288,\n",
       " 'CLC 180': 289,\n",
       " 'Golf GTI': 290,\n",
       " 'ML 500': 291,\n",
       " '324': 292,\n",
       " 'S 420': 293,\n",
       " 'T2 (Transporter)': 294,\n",
       " '6 Series Gran Coupe': 295,\n",
       " 'SL 55 AMG': 296,\n",
       " '650': 297,\n",
       " 'Sprinter 324': 298,\n",
       " 'Lite Ace': 299,\n",
       " '4Runner': 300,\n",
       " 'Sequoia': 301,\n",
       " '11': 302,\n",
       " 'Sprinter 315': 303,\n",
       " 'Syncro': 304,\n",
       " 'Scion': 305}"
      ]
     },
     "execution_count": 28,
     "metadata": {},
     "output_type": "execute_result"
    }
   ],
   "source": [
    "magic_map"
   ]
  },
  {
   "cell_type": "markdown",
   "metadata": {},
   "source": [
    "Convert lists for mapping"
   ]
  },
  {
   "cell_type": "code",
   "execution_count": 29,
   "metadata": {},
   "outputs": [],
   "source": [
    "class_map = {\n",
    "    'Registration':{'yes': 0, 'no': 1},\n",
    "    'Engine Type':{'Petrol': 0, 'Diesel': 1, 'Gas': 2, 'Other': 3},\n",
    "    'Body':{'sedan': 0, 'van': 1, 'crossover': 2, 'vagon': 3, 'other': 4, 'hatch': 5},\n",
    "    'Brand':{'BMW': 0, 'Mercedes-Benz': 1, 'Audi': 2, 'Toyota': 3, 'Renault': 4, 'Volkswagen': 5, 'Mitsubishi': 6},\n",
    "    'Model': magic_map\n",
    "    \n",
    "    \n",
    "}"
   ]
  },
  {
   "cell_type": "code",
   "execution_count": 30,
   "metadata": {},
   "outputs": [],
   "source": [
    "list_of_feature_names = ['Registration', 'Engine Type', 'Body', 'Brand', 'Model']"
   ]
  },
  {
   "cell_type": "code",
   "execution_count": 31,
   "metadata": {},
   "outputs": [],
   "source": [
    "for feature in list_of_feature_names:\n",
    "    \n",
    "    df[feature] = df[feature].map(class_map[feature])\n",
    "    "
   ]
  },
  {
   "cell_type": "code",
   "execution_count": 32,
   "metadata": {},
   "outputs": [
    {
     "data": {
      "text/html": [
       "<div>\n",
       "<style scoped>\n",
       "    .dataframe tbody tr th:only-of-type {\n",
       "        vertical-align: middle;\n",
       "    }\n",
       "\n",
       "    .dataframe tbody tr th {\n",
       "        vertical-align: top;\n",
       "    }\n",
       "\n",
       "    .dataframe thead th {\n",
       "        text-align: right;\n",
       "    }\n",
       "</style>\n",
       "<table border=\"1\" class=\"dataframe\">\n",
       "  <thead>\n",
       "    <tr style=\"text-align: right;\">\n",
       "      <th></th>\n",
       "      <th>Brand</th>\n",
       "      <th>Price</th>\n",
       "      <th>Body</th>\n",
       "      <th>Mileage</th>\n",
       "      <th>EngineV</th>\n",
       "      <th>Engine Type</th>\n",
       "      <th>Registration</th>\n",
       "      <th>Year</th>\n",
       "      <th>Model</th>\n",
       "    </tr>\n",
       "  </thead>\n",
       "  <tbody>\n",
       "    <tr>\n",
       "      <td>0</td>\n",
       "      <td>0</td>\n",
       "      <td>4200</td>\n",
       "      <td>0</td>\n",
       "      <td>0.282653</td>\n",
       "      <td>0.014086</td>\n",
       "      <td>0</td>\n",
       "      <td>0</td>\n",
       "      <td>0.468085</td>\n",
       "      <td>0</td>\n",
       "    </tr>\n",
       "    <tr>\n",
       "      <td>1</td>\n",
       "      <td>1</td>\n",
       "      <td>7900</td>\n",
       "      <td>1</td>\n",
       "      <td>0.435714</td>\n",
       "      <td>0.023141</td>\n",
       "      <td>1</td>\n",
       "      <td>0</td>\n",
       "      <td>0.638298</td>\n",
       "      <td>1</td>\n",
       "    </tr>\n",
       "    <tr>\n",
       "      <td>2</td>\n",
       "      <td>1</td>\n",
       "      <td>13300</td>\n",
       "      <td>0</td>\n",
       "      <td>0.365306</td>\n",
       "      <td>0.044270</td>\n",
       "      <td>2</td>\n",
       "      <td>0</td>\n",
       "      <td>0.723404</td>\n",
       "      <td>2</td>\n",
       "    </tr>\n",
       "    <tr>\n",
       "      <td>3</td>\n",
       "      <td>2</td>\n",
       "      <td>23000</td>\n",
       "      <td>2</td>\n",
       "      <td>0.244898</td>\n",
       "      <td>0.036221</td>\n",
       "      <td>0</td>\n",
       "      <td>0</td>\n",
       "      <td>0.808511</td>\n",
       "      <td>3</td>\n",
       "    </tr>\n",
       "    <tr>\n",
       "      <td>4</td>\n",
       "      <td>3</td>\n",
       "      <td>18300</td>\n",
       "      <td>2</td>\n",
       "      <td>0.122449</td>\n",
       "      <td>0.014086</td>\n",
       "      <td>0</td>\n",
       "      <td>0</td>\n",
       "      <td>0.893617</td>\n",
       "      <td>4</td>\n",
       "    </tr>\n",
       "    <tr>\n",
       "      <td>...</td>\n",
       "      <td>...</td>\n",
       "      <td>...</td>\n",
       "      <td>...</td>\n",
       "      <td>...</td>\n",
       "      <td>...</td>\n",
       "      <td>...</td>\n",
       "      <td>...</td>\n",
       "      <td>...</td>\n",
       "      <td>...</td>\n",
       "    </tr>\n",
       "    <tr>\n",
       "      <td>4339</td>\n",
       "      <td>3</td>\n",
       "      <td>17900</td>\n",
       "      <td>0</td>\n",
       "      <td>0.035714</td>\n",
       "      <td>0.010061</td>\n",
       "      <td>0</td>\n",
       "      <td>0</td>\n",
       "      <td>0.957447</td>\n",
       "      <td>77</td>\n",
       "    </tr>\n",
       "    <tr>\n",
       "      <td>4340</td>\n",
       "      <td>1</td>\n",
       "      <td>125000</td>\n",
       "      <td>0</td>\n",
       "      <td>0.009184</td>\n",
       "      <td>0.024147</td>\n",
       "      <td>1</td>\n",
       "      <td>0</td>\n",
       "      <td>0.957447</td>\n",
       "      <td>39</td>\n",
       "    </tr>\n",
       "    <tr>\n",
       "      <td>4341</td>\n",
       "      <td>0</td>\n",
       "      <td>6500</td>\n",
       "      <td>0</td>\n",
       "      <td>0.001020</td>\n",
       "      <td>0.029178</td>\n",
       "      <td>0</td>\n",
       "      <td>0</td>\n",
       "      <td>0.638298</td>\n",
       "      <td>171</td>\n",
       "    </tr>\n",
       "    <tr>\n",
       "      <td>4342</td>\n",
       "      <td>0</td>\n",
       "      <td>8000</td>\n",
       "      <td>0</td>\n",
       "      <td>0.197959</td>\n",
       "      <td>0.014086</td>\n",
       "      <td>0</td>\n",
       "      <td>0</td>\n",
       "      <td>0.340426</td>\n",
       "      <td>53</td>\n",
       "    </tr>\n",
       "    <tr>\n",
       "      <td>4344</td>\n",
       "      <td>5</td>\n",
       "      <td>13500</td>\n",
       "      <td>1</td>\n",
       "      <td>0.126531</td>\n",
       "      <td>0.014086</td>\n",
       "      <td>1</td>\n",
       "      <td>0</td>\n",
       "      <td>0.936170</td>\n",
       "      <td>83</td>\n",
       "    </tr>\n",
       "  </tbody>\n",
       "</table>\n",
       "<p>4025 rows × 9 columns</p>\n",
       "</div>"
      ],
      "text/plain": [
       "      Brand   Price  Body   Mileage   EngineV  Engine Type  Registration  \\\n",
       "0         0    4200     0  0.282653  0.014086            0             0   \n",
       "1         1    7900     1  0.435714  0.023141            1             0   \n",
       "2         1   13300     0  0.365306  0.044270            2             0   \n",
       "3         2   23000     2  0.244898  0.036221            0             0   \n",
       "4         3   18300     2  0.122449  0.014086            0             0   \n",
       "...     ...     ...   ...       ...       ...          ...           ...   \n",
       "4339      3   17900     0  0.035714  0.010061            0             0   \n",
       "4340      1  125000     0  0.009184  0.024147            1             0   \n",
       "4341      0    6500     0  0.001020  0.029178            0             0   \n",
       "4342      0    8000     0  0.197959  0.014086            0             0   \n",
       "4344      5   13500     1  0.126531  0.014086            1             0   \n",
       "\n",
       "          Year  Model  \n",
       "0     0.468085      0  \n",
       "1     0.638298      1  \n",
       "2     0.723404      2  \n",
       "3     0.808511      3  \n",
       "4     0.893617      4  \n",
       "...        ...    ...  \n",
       "4339  0.957447     77  \n",
       "4340  0.957447     39  \n",
       "4341  0.638298    171  \n",
       "4342  0.340426     53  \n",
       "4344  0.936170     83  \n",
       "\n",
       "[4025 rows x 9 columns]"
      ]
     },
     "execution_count": 32,
     "metadata": {},
     "output_type": "execute_result"
    }
   ],
   "source": [
    "df"
   ]
  },
  {
   "cell_type": "code",
   "execution_count": 33,
   "metadata": {},
   "outputs": [],
   "source": [
    "x_train = df.drop(['Price'], axis=1)\n",
    "y_train = df['Price']"
   ]
  },
  {
   "cell_type": "code",
   "execution_count": 34,
   "metadata": {},
   "outputs": [
    {
     "data": {
      "text/plain": [
       "(4025, 8)"
      ]
     },
     "execution_count": 34,
     "metadata": {},
     "output_type": "execute_result"
    }
   ],
   "source": [
    "x_train.shape"
   ]
  },
  {
   "cell_type": "code",
   "execution_count": 35,
   "metadata": {},
   "outputs": [
    {
     "data": {
      "text/plain": [
       "(4025,)"
      ]
     },
     "execution_count": 35,
     "metadata": {},
     "output_type": "execute_result"
    }
   ],
   "source": [
    "y_train.shape"
   ]
  },
  {
   "cell_type": "code",
   "execution_count": 36,
   "metadata": {},
   "outputs": [
    {
     "data": {
      "text/plain": [
       "False"
      ]
     },
     "execution_count": 36,
     "metadata": {},
     "output_type": "execute_result"
    }
   ],
   "source": [
    "np.any(np.isnan(df))"
   ]
  },
  {
   "cell_type": "code",
   "execution_count": 37,
   "metadata": {},
   "outputs": [
    {
     "data": {
      "text/plain": [
       "Brand           0\n",
       "Price           0\n",
       "Body            0\n",
       "Mileage         0\n",
       "EngineV         0\n",
       "Engine Type     0\n",
       "Registration    0\n",
       "Year            0\n",
       "Model           0\n",
       "dtype: int64"
      ]
     },
     "execution_count": 37,
     "metadata": {},
     "output_type": "execute_result"
    }
   ],
   "source": [
    "df.isna().sum()"
   ]
  },
  {
   "cell_type": "code",
   "execution_count": 38,
   "metadata": {},
   "outputs": [
    {
     "data": {
      "text/plain": [
       "array([0, 1, 2, 3, 4, 5, 6], dtype=int64)"
      ]
     },
     "execution_count": 38,
     "metadata": {},
     "output_type": "execute_result"
    }
   ],
   "source": [
    "df['Brand'].unique()"
   ]
  },
  {
   "cell_type": "code",
   "execution_count": 39,
   "metadata": {},
   "outputs": [
    {
     "name": "stdout",
     "output_type": "stream",
     "text": [
      "<class 'pandas.core.frame.DataFrame'>\n",
      "Int64Index: 4025 entries, 0 to 4344\n",
      "Data columns (total 9 columns):\n",
      "Brand           4025 non-null int64\n",
      "Price           4025 non-null int32\n",
      "Body            4025 non-null int64\n",
      "Mileage         4025 non-null float64\n",
      "EngineV         4025 non-null float64\n",
      "Engine Type     4025 non-null int64\n",
      "Registration    4025 non-null int64\n",
      "Year            4025 non-null float64\n",
      "Model           4025 non-null int64\n",
      "dtypes: float64(3), int32(1), int64(5)\n",
      "memory usage: 298.7 KB\n"
     ]
    }
   ],
   "source": [
    "df.info()"
   ]
  },
  {
   "cell_type": "code",
   "execution_count": 40,
   "metadata": {},
   "outputs": [
    {
     "data": {
      "text/plain": [
       "True"
      ]
     },
     "execution_count": 40,
     "metadata": {},
     "output_type": "execute_result"
    }
   ],
   "source": [
    "np.all(np.isfinite(df))"
   ]
  },
  {
   "cell_type": "code",
   "execution_count": 41,
   "metadata": {},
   "outputs": [],
   "source": [
    "df = df.dropna()"
   ]
  },
  {
   "cell_type": "code",
   "execution_count": 42,
   "metadata": {},
   "outputs": [
    {
     "name": "stdout",
     "output_type": "stream",
     "text": [
      "4025\n"
     ]
    }
   ],
   "source": [
    "print(len(df))"
   ]
  },
  {
   "cell_type": "code",
   "execution_count": 43,
   "metadata": {},
   "outputs": [
    {
     "data": {
      "text/plain": [
       "False"
      ]
     },
     "execution_count": 43,
     "metadata": {},
     "output_type": "execute_result"
    }
   ],
   "source": [
    "np.any(np.isnan(df))"
   ]
  },
  {
   "cell_type": "code",
   "execution_count": 44,
   "metadata": {},
   "outputs": [],
   "source": [
    "x_features = df.drop(['Price'], axis=1)\n",
    "y_labels = df['Price']"
   ]
  },
  {
   "cell_type": "code",
   "execution_count": 45,
   "metadata": {},
   "outputs": [],
   "source": [
    "X = x_features\n",
    "y = y_labels"
   ]
  },
  {
   "cell_type": "code",
   "execution_count": 73,
   "metadata": {},
   "outputs": [
    {
     "name": "stdout",
     "output_type": "stream",
     "text": [
      "300000\n"
     ]
    }
   ],
   "source": [
    "print(max(y))# Max Price"
   ]
  },
  {
   "cell_type": "code",
   "execution_count": 74,
   "metadata": {},
   "outputs": [
    {
     "name": "stdout",
     "output_type": "stream",
     "text": [
      "600\n"
     ]
    }
   ],
   "source": [
    "print(min(y))# Min Price"
   ]
  },
  {
   "cell_type": "markdown",
   "metadata": {},
   "source": [
    "## Model creation and prediciton"
   ]
  },
  {
   "cell_type": "markdown",
   "metadata": {},
   "source": [
    "The models are created and trained"
   ]
  },
  {
   "cell_type": "code",
   "execution_count": null,
   "metadata": {},
   "outputs": [],
   "source": []
  },
  {
   "cell_type": "code",
   "execution_count": 46,
   "metadata": {},
   "outputs": [
    {
     "name": "stdout",
     "output_type": "stream",
     "text": [
      "4025\n"
     ]
    }
   ],
   "source": [
    "print(len(y))\n"
   ]
  },
  {
   "cell_type": "code",
   "execution_count": 47,
   "metadata": {},
   "outputs": [],
   "source": [
    "from sklearn.metrics import mean_squared_error\n",
    "from math import sqrt\n",
    "\n",
    "\n",
    "rf = RandomForestClassifier()\n",
    "dt = DecisionTreeClassifier()\n",
    "SVM = svm.SVC()\n",
    "lr = LogisticRegression()\n",
    "mlp = MLPClassifier()\n",
    "\n",
    "\n",
    "\n",
    "models = [rf, dt, SVM, lr, mlp]"
   ]
  },
  {
   "cell_type": "code",
   "execution_count": 48,
   "metadata": {},
   "outputs": [
    {
     "name": "stdout",
     "output_type": "stream",
     "text": [
      "Number of folds:3\n",
      "Model name: RandomForestClassifier\n",
      "RMSE: 6593.943277081359\n"
     ]
    },
    {
     "data": {
      "image/png": "[encoded data removed]",
      "text/plain": [
       "<Figure size 432x288 with 1 Axes>"
      ]
     },
     "metadata": {
      "needs_background": "light"
     },
     "output_type": "display_data"
    },
    {
     "name": "stdout",
     "output_type": "stream",
     "text": [
      "Number of folds:4\n",
      "Model name: RandomForestClassifier\n",
      "RMSE: 5966.7696562864\n"
     ]
    },
    {
     "data": {
      "image/png": "[encoded data removed]",
      "text/plain": [
       "<Figure size 432x288 with 1 Axes>"
      ]
     },
     "metadata": {
      "needs_background": "light"
     },
     "output_type": "display_data"
    },
    {
     "name": "stdout",
     "output_type": "stream",
     "text": [
      "Number of folds:5\n",
      "Model name: RandomForestClassifier\n",
      "RMSE: 6091.427819383381\n"
     ]
    },
    {
     "data": {
      "image/png": "[encoded data removed]",
      "text/plain": [
       "<Figure size 432x288 with 1 Axes>"
      ]
     },
     "metadata": {
      "needs_background": "light"
     },
     "output_type": "display_data"
    },
    {
     "name": "stdout",
     "output_type": "stream",
     "text": [
      "Number of folds:6\n",
      "Model name: RandomForestClassifier\n",
      "RMSE: 6092.777826572635\n"
     ]
    },
    {
     "data": {
      "image/png": "[encoded data removed]",
      "text/plain": [
       "<Figure size 432x288 with 1 Axes>"
      ]
     },
     "metadata": {
      "needs_background": "light"
     },
     "output_type": "display_data"
    },
    {
     "name": "stdout",
     "output_type": "stream",
     "text": [
      "Contents of array\n",
      "[[6593.943277081359, 5966.7696562864, 6091.427819383381, 6092.777826572635]]\n",
      "\n",
      "Number of folds:3\n",
      "Model name: DecisionTreeClassifier\n",
      "RMSE: 6644.837502773177\n"
     ]
    },
    {
     "data": {
      "image/png": "[encoded data removed]",
      "text/plain": [
       "<Figure size 432x288 with 1 Axes>"
      ]
     },
     "metadata": {
      "needs_background": "light"
     },
     "output_type": "display_data"
    },
    {
     "name": "stdout",
     "output_type": "stream",
     "text": [
      "Number of folds:4\n",
      "Model name: DecisionTreeClassifier\n",
      "RMSE: 6559.65978344412\n"
     ]
    },
    {
     "data": {
      "image/png": "[encoded data removed]",
      "text/plain": [
       "<Figure size 432x288 with 1 Axes>"
      ]
     },
     "metadata": {
      "needs_background": "light"
     },
     "output_type": "display_data"
    },
    {
     "name": "stdout",
     "output_type": "stream",
     "text": [
      "Number of folds:5\n",
      "Model name: DecisionTreeClassifier\n",
      "RMSE: 6870.754947606712\n"
     ]
    },
    {
     "data": {
      "image/png": "[encoded data removed]",
      "text/plain": [
       "<Figure size 432x288 with 1 Axes>"
      ]
     },
     "metadata": {
      "needs_background": "light"
     },
     "output_type": "display_data"
    },
    {
     "name": "stdout",
     "output_type": "stream",
     "text": [
      "Number of folds:6\n",
      "Model name: DecisionTreeClassifier\n",
      "RMSE: 6548.669493959671\n"
     ]
    },
    {
     "data": {
      "image/png": "[encoded data removed]",
      "text/plain": [
       "<Figure size 432x288 with 1 Axes>"
      ]
     },
     "metadata": {
      "needs_background": "light"
     },
     "output_type": "display_data"
    },
    {
     "name": "stdout",
     "output_type": "stream",
     "text": [
      "Contents of array\n",
      "[[6593.943277081359, 5966.7696562864, 6091.427819383381, 6092.777826572635], [6644.837502773177, 6559.65978344412, 6870.754947606712, 6548.669493959671]]\n",
      "\n",
      "Number of folds:3\n",
      "Model name: SVC\n",
      "RMSE: 10649.343826623299\n"
     ]
    },
    {
     "data": {
      "image/png": "[encoded data removed]",
      "text/plain": [
       "<Figure size 432x288 with 1 Axes>"
      ]
     },
     "metadata": {
      "needs_background": "light"
     },
     "output_type": "display_data"
    },
    {
     "name": "stdout",
     "output_type": "stream",
     "text": [
      "Number of folds:4\n",
      "Model name: SVC\n",
      "RMSE: 10704.557029079711\n"
     ]
    },
    {
     "data": {
      "image/png": "[encoded data removed]",
      "text/plain": [
       "<Figure size 432x288 with 1 Axes>"
      ]
     },
     "metadata": {
      "needs_background": "light"
     },
     "output_type": "display_data"
    },
    {
     "name": "stdout",
     "output_type": "stream",
     "text": [
      "Number of folds:5\n",
      "Model name: SVC\n",
      "RMSE: 10820.049735147057\n"
     ]
    },
    {
     "data": {
      "image/png": "[encoded data removed]",
      "text/plain": [
       "<Figure size 432x288 with 1 Axes>"
      ]
     },
     "metadata": {
      "needs_background": "light"
     },
     "output_type": "display_data"
    },
    {
     "name": "stdout",
     "output_type": "stream",
     "text": [
      "Number of folds:6\n",
      "Model name: SVC\n",
      "RMSE: 10745.535512351395\n"
     ]
    },
    {
     "data": {
      "image/png": "[encoded data removed]",
      "text/plain": [
       "<Figure size 432x288 with 1 Axes>"
      ]
     },
     "metadata": {
      "needs_background": "light"
     },
     "output_type": "display_data"
    },
    {
     "name": "stdout",
     "output_type": "stream",
     "text": [
      "Contents of array\n",
      "[[6593.943277081359, 5966.7696562864, 6091.427819383381, 6092.777826572635], [6644.837502773177, 6559.65978344412, 6870.754947606712, 6548.669493959671], [10649.343826623299, 10704.557029079711, 10820.049735147057, 10745.535512351395]]\n",
      "\n",
      "Number of folds:3\n",
      "Model name: LogisticRegression\n",
      "RMSE: 11346.10541230253\n"
     ]
    },
    {
     "data": {
      "image/png": "[encoded data removed]",
      "text/plain": [
       "<Figure size 432x288 with 1 Axes>"
      ]
     },
     "metadata": {
      "needs_background": "light"
     },
     "output_type": "display_data"
    },
    {
     "name": "stdout",
     "output_type": "stream",
     "text": [
      "Number of folds:4\n",
      "Model name: LogisticRegression\n",
      "RMSE: 11079.265430030473\n"
     ]
    },
    {
     "data": {
      "image/png": "[encoded data removed]",
      "text/plain": [
       "<Figure size 432x288 with 1 Axes>"
      ]
     },
     "metadata": {
      "needs_background": "light"
     },
     "output_type": "display_data"
    },
    {
     "name": "stdout",
     "output_type": "stream",
     "text": [
      "Number of folds:5\n",
      "Model name: LogisticRegression\n",
      "RMSE: 11326.117337238495\n"
     ]
    },
    {
     "data": {
      "image/png": "[encoded data removed]",
      "text/plain": [
       "<Figure size 432x288 with 1 Axes>"
      ]
     },
     "metadata": {
      "needs_background": "light"
     },
     "output_type": "display_data"
    },
    {
     "name": "stdout",
     "output_type": "stream",
     "text": [
      "Number of folds:6\n",
      "Model name: LogisticRegression\n",
      "RMSE: 11212.028924262964\n"
     ]
    },
    {
     "data": {
      "image/png": "[encoded data removed]",
      "text/plain": [
       "<Figure size 432x288 with 1 Axes>"
      ]
     },
     "metadata": {
      "needs_background": "light"
     },
     "output_type": "display_data"
    },
    {
     "name": "stdout",
     "output_type": "stream",
     "text": [
      "Contents of array\n",
      "[[6593.943277081359, 5966.7696562864, 6091.427819383381, 6092.777826572635], [6644.837502773177, 6559.65978344412, 6870.754947606712, 6548.669493959671], [10649.343826623299, 10704.557029079711, 10820.049735147057, 10745.535512351395], [11346.10541230253, 11079.265430030473, 11326.117337238495, 11212.028924262964]]\n",
      "\n",
      "Number of folds:3\n",
      "Model name: MLPClassifier\n",
      "RMSE: 11093.656008583022\n"
     ]
    },
    {
     "data": {
      "image/png": "[encoded data removed]",
      "text/plain": [
       "<Figure size 432x288 with 1 Axes>"
      ]
     },
     "metadata": {
      "needs_background": "light"
     },
     "output_type": "display_data"
    },
    {
     "name": "stdout",
     "output_type": "stream",
     "text": [
      "Number of folds:4\n",
      "Model name: MLPClassifier\n",
      "RMSE: 10915.277338888129\n"
     ]
    },
    {
     "data": {
      "image/png": "[encoded data removed]",
      "text/plain": [
       "<Figure size 432x288 with 1 Axes>"
      ]
     },
     "metadata": {
      "needs_background": "light"
     },
     "output_type": "display_data"
    },
    {
     "name": "stdout",
     "output_type": "stream",
     "text": [
      "Number of folds:5\n",
      "Model name: MLPClassifier\n",
      "RMSE: 9746.47583084482\n"
     ]
    },
    {
     "data": {
      "image/png": "[encoded data removed]",
      "text/plain": [
       "<Figure size 432x288 with 1 Axes>"
      ]
     },
     "metadata": {
      "needs_background": "light"
     },
     "output_type": "display_data"
    },
    {
     "name": "stdout",
     "output_type": "stream",
     "text": [
      "Number of folds:6\n",
      "Model name: MLPClassifier\n",
      "RMSE: 10624.680774323213\n"
     ]
    },
    {
     "data": {
      "image/png": "[encoded data removed]",
      "text/plain": [
       "<Figure size 432x288 with 1 Axes>"
      ]
     },
     "metadata": {
      "needs_background": "light"
     },
     "output_type": "display_data"
    },
    {
     "name": "stdout",
     "output_type": "stream",
     "text": [
      "Contents of array\n",
      "[[6593.943277081359, 5966.7696562864, 6091.427819383381, 6092.777826572635], [6644.837502773177, 6559.65978344412, 6870.754947606712, 6548.669493959671], [10649.343826623299, 10704.557029079711, 10820.049735147057, 10745.535512351395], [11346.10541230253, 11079.265430030473, 11326.117337238495, 11212.028924262964], [11093.656008583022, 10915.277338888129, 9746.47583084482, 10624.680774323213]]\n",
      "\n"
     ]
    }
   ],
   "source": [
    "cv_count = [3, 4, 5, 6] # number of folds\n",
    "\n",
    "\n",
    "array_rmse = []\n",
    "\n",
    "\n",
    "for model in models: \n",
    "    \n",
    "    \n",
    "    model_results = []\n",
    "    for count in cv_count:\n",
    "        \n",
    "        print(\"Number of folds:{}\".format(count))\n",
    "        predictions = cross_val_predict(model, X, y, cv=count)\n",
    "\n",
    "        rms = sqrt(mean_squared_error(y, predictions))\n",
    "\n",
    "        print(\"Model name: {}\".format(model.__class__.__name__))\n",
    "        \n",
    "        print(\"RMSE: {}\".format(rms)) \n",
    "        \n",
    "        model_results.append(rms)\n",
    "        \n",
    "        \n",
    "        \n",
    "        list_nums = []\n",
    "\n",
    "        for x in range(1, len(predictions) + 1):\n",
    "            list_nums.append(x)  \n",
    "\n",
    "\n",
    "        plt.plot(list_nums, y) # blue\n",
    "        plt.plot(list_nums, predictions) # orange\n",
    "\n",
    "\n",
    "\n",
    "        plt.ylabel('Value of car')\n",
    "        plt.xlabel('One point represent a car (i.e. point of comparison)')\n",
    "        plt.legend(['Actual', 'Predictions'])\n",
    "\n",
    "        plt.title(\"Actual vs Predictions graph for {}\".format(model.__class__.__name__))\n",
    "        plt.show()\n",
    "        \n",
    "    array_rmse.append(model_results)\n",
    "    print(\"Contents of array\")\n",
    "    print(array_rmse)\n",
    "    print(\"\")"
   ]
  },
  {
   "cell_type": "code",
   "execution_count": 49,
   "metadata": {},
   "outputs": [
    {
     "data": {
      "image/png": "[encoded data removed]",
      "text/plain": [
       "<Figure size 432x288 with 1 Axes>"
      ]
     },
     "metadata": {
      "needs_background": "light"
     },
     "output_type": "display_data"
    }
   ],
   "source": [
    "for x in array_rmse:\n",
    "    \n",
    "    \n",
    "        \n",
    "    plt.plot(cv_count, x)# blue\n",
    "plt.xlabel('Cross Validation(Number of folds) Value')\n",
    "plt.ylabel('RMSE Value')\n",
    "plt.legend(['RandomForest', 'Decision Tree', 'Support Vector', 'LogisticRegression', 'MLP'])\n",
    "plt.title(\"RMSE vs number of folds comparison\")\n",
    "    \n",
    "    \n",
    "    \n",
    "plt.show()   "
   ]
  },
  {
   "cell_type": "markdown",
   "metadata": {},
   "source": [
    "## TensorFlow Model"
   ]
  },
  {
   "cell_type": "markdown",
   "metadata": {},
   "source": [
    "The neural network using TensorFlow is tested. Please note that this is not my own code, this example is owned by TensorFlow (https://www.tensorflow.org/tutorials/keras/regression)"
   ]
  },
  {
   "cell_type": "code",
   "execution_count": 53,
   "metadata": {},
   "outputs": [
    {
     "name": "stdout",
     "output_type": "stream",
     "text": [
      "2.0.0\n"
     ]
    }
   ],
   "source": [
    "import tensorflow as tf\n",
    "\n",
    "from tensorflow import keras\n",
    "from tensorflow.keras import layers\n",
    "\n",
    "print(tf.__version__)"
   ]
  },
  {
   "cell_type": "code",
   "execution_count": 54,
   "metadata": {},
   "outputs": [],
   "source": [
    "import tensorflow_docs as tfdocs\n",
    "import tensorflow_docs.plots\n",
    "import tensorflow_docs.modeling"
   ]
  },
  {
   "cell_type": "code",
   "execution_count": null,
   "metadata": {},
   "outputs": [],
   "source": []
  },
  {
   "cell_type": "code",
   "execution_count": 58,
   "metadata": {},
   "outputs": [],
   "source": [
    "def build_model():\n",
    "    \n",
    "    model = keras.Sequential([\n",
    "        layers.Dense(64, activation='relu', input_shape=[len(x_train.keys())]),\n",
    "        layers.Dense(64, activation='relu'),\n",
    "        layers.Dense(1)\n",
    "  ])\n",
    "\n",
    "    optimizer = tf.keras.optimizers.RMSprop(0.001)\n",
    "\n",
    "    model.compile(loss='mse',\n",
    "                optimizer=optimizer,\n",
    "                metrics=['mae', 'mse'])\n",
    "    return model"
   ]
  },
  {
   "cell_type": "code",
   "execution_count": null,
   "metadata": {},
   "outputs": [],
   "source": []
  },
  {
   "cell_type": "code",
   "execution_count": 59,
   "metadata": {},
   "outputs": [],
   "source": [
    "model = build_model()"
   ]
  },
  {
   "cell_type": "code",
   "execution_count": 60,
   "metadata": {},
   "outputs": [
    {
     "name": "stdout",
     "output_type": "stream",
     "text": [
      "Model: \"sequential\"\n",
      "_________________________________________________________________\n",
      "Layer (type)                 Output Shape              Param #   \n",
      "=================================================================\n",
      "dense (Dense)                (None, 64)                576       \n",
      "_________________________________________________________________\n",
      "dense_1 (Dense)              (None, 64)                4160      \n",
      "_________________________________________________________________\n",
      "dense_2 (Dense)              (None, 1)                 65        \n",
      "=================================================================\n",
      "Total params: 4,801\n",
      "Trainable params: 4,801\n",
      "Non-trainable params: 0\n",
      "_________________________________________________________________\n"
     ]
    }
   ],
   "source": [
    "model.summary()"
   ]
  },
  {
   "cell_type": "code",
   "execution_count": 61,
   "metadata": {},
   "outputs": [
    {
     "name": "stdout",
     "output_type": "stream",
     "text": [
      "9\n"
     ]
    }
   ],
   "source": [
    "print(len(df.keys()))"
   ]
  },
  {
   "cell_type": "code",
   "execution_count": 62,
   "metadata": {},
   "outputs": [
    {
     "data": {
      "text/plain": [
       "(4025, 8)"
      ]
     },
     "execution_count": 62,
     "metadata": {},
     "output_type": "execute_result"
    }
   ],
   "source": [
    "x_train.shape"
   ]
  },
  {
   "cell_type": "code",
   "execution_count": 63,
   "metadata": {},
   "outputs": [
    {
     "name": "stdout",
     "output_type": "stream",
     "text": [
      "WARNING:tensorflow:Falling back from v2 loop because of error: Failed to find data adapter that can handle input: <class 'pandas.core.frame.DataFrame'>, <class 'NoneType'>\n",
      "\n",
      "Epoch: 0, loss:1029342689.9496,  mae:19522.3281,  mse:1029342656.0000,  val_loss:987740017.3462,  val_mae:18046.9453,  val_mse:987740032.0000,  \n",
      "....................................................................................................\n",
      "Epoch: 100, loss:442204168.9914,  mae:11172.6338,  mse:442204128.0000,  val_loss:476907206.0910,  val_mae:11316.8555,  val_mse:476907200.0000,  \n",
      "....................................................................................................\n",
      "Epoch: 200, loss:327997366.9644,  mae:9084.8213,  mse:327997408.0000,  val_loss:359718016.1103,  val_mae:8579.9600,  val_mse:359717984.0000,  \n",
      "....................................................................................................\n",
      "Epoch: 300, loss:298391661.0673,  mae:8548.8965,  mse:298391712.0000,  val_loss:334720957.6607,  val_mae:8163.7480,  val_mse:334720928.0000,  \n",
      "....................................................................................................\n",
      "Epoch: 400, loss:282229881.5713,  mae:8067.1240,  mse:282229920.0000,  val_loss:322370659.9283,  val_mae:8074.9380,  val_mse:322370656.0000,  \n",
      "....................................................................................................\n",
      "Epoch: 500, loss:275201945.0079,  mae:7868.4487,  mse:275201888.0000,  val_loss:319432106.9903,  val_mae:8156.0415,  val_mse:319432096.0000,  \n",
      "....................................................................................................\n",
      "Epoch: 600, loss:267731949.2713,  mae:7679.3213,  mse:267731952.0000,  val_loss:312891467.4538,  val_mae:7922.8228,  val_mse:312891456.0000,  \n",
      "....................................................................................................\n",
      "Epoch: 700, loss:259733395.8385,  mae:7574.4893,  mse:259733472.0000,  val_loss:309909367.1834,  val_mae:7512.5698,  val_mse:309909376.0000,  \n",
      "....................................................................................................\n",
      "Epoch: 800, loss:254024193.1433,  mae:7410.2485,  mse:254024192.0000,  val_loss:309495240.9379,  val_mae:7208.5396,  val_mse:309495264.0000,  \n",
      "....................................................................................................\n",
      "Epoch: 900, loss:242945755.9241,  mae:7177.5601,  mse:242945728.0000,  val_loss:293052884.4359,  val_mae:7500.7891,  val_mse:293052864.0000,  \n",
      "...................................................................................................."
     ]
    }
   ],
   "source": [
    "X_train, X_test, y_train, y_test = train_test_split(X, y, test_size=0.10, random_state=42)\n",
    "EPOCHS = 1000\n",
    "\n",
    "history = model.fit(\n",
    "  X_train, y_train, \n",
    "  epochs=EPOCHS, validation_split = 0.2, verbose=0,\n",
    "  callbacks=[tfdocs.modeling.EpochDots()])\n",
    "\n"
   ]
  },
  {
   "cell_type": "code",
   "execution_count": 64,
   "metadata": {},
   "outputs": [
    {
     "name": "stdout",
     "output_type": "stream",
     "text": [
      "WARNING:tensorflow:Falling back from v2 loop because of error: Failed to find data adapter that can handle input: <class 'pandas.core.frame.DataFrame'>, <class 'NoneType'>\n"
     ]
    }
   ],
   "source": [
    "predictions = model.predict(X_test)"
   ]
  },
  {
   "cell_type": "code",
   "execution_count": 65,
   "metadata": {},
   "outputs": [
    {
     "data": {
      "text/plain": [
       "array([[ 13289.13   ],\n",
       "       [  9445.342  ],\n",
       "       [ 11357.045  ],\n",
       "       [ 15240.36   ],\n",
       "       [  7941.0825 ],\n",
       "       [ 18299.594  ],\n",
       "       [ 73083.81   ],\n",
       "       [ 61182.82   ],\n",
       "       [ 35367.68   ],\n",
       "       [  4730.3936 ],\n",
       "       [  9928.586  ],\n",
       "       [  2984.2776 ],\n",
       "       [ 11122.962  ],\n",
       "       [ 85526.734  ],\n",
       "       [  9636.429  ],\n",
       "       [ 24534.371  ],\n",
       "       [ 49382.35   ],\n",
       "       [ 11653.132  ],\n",
       "       [ 34522.906  ],\n",
       "       [ 22203.666  ],\n",
       "       [ 17437.596  ],\n",
       "       [ 30646.07   ],\n",
       "       [ 32484.193  ],\n",
       "       [  3916.032  ],\n",
       "       [ 13371.513  ],\n",
       "       [ 17363.252  ],\n",
       "       [  4241.094  ],\n",
       "       [  9201.747  ],\n",
       "       [  8121.744  ],\n",
       "       [ 14040.073  ],\n",
       "       [ 29948.428  ],\n",
       "       [ 29326.582  ],\n",
       "       [ 76931.95   ],\n",
       "       [ 33561.043  ],\n",
       "       [ 22170.297  ],\n",
       "       [  6187.1562 ],\n",
       "       [ 20559.238  ],\n",
       "       [ 28932.89   ],\n",
       "       [  7083.7114 ],\n",
       "       [ 12209.28   ],\n",
       "       [ 20502.543  ],\n",
       "       [ 10768.268  ],\n",
       "       [  7204.7754 ],\n",
       "       [ 14669.146  ],\n",
       "       [  9586.521  ],\n",
       "       [ 10850.559  ],\n",
       "       [  6558.6064 ],\n",
       "       [ 25456.85   ],\n",
       "       [  8956.582  ],\n",
       "       [ 32293.11   ],\n",
       "       [  4457.178  ],\n",
       "       [ 89605.91   ],\n",
       "       [  5826.7886 ],\n",
       "       [ 14178.598  ],\n",
       "       [ 16006.969  ],\n",
       "       [ 36706.54   ],\n",
       "       [ 15009.335  ],\n",
       "       [ 34561.133  ],\n",
       "       [  8963.059  ],\n",
       "       [ 17975.178  ],\n",
       "       [ 46592.273  ],\n",
       "       [  7383.181  ],\n",
       "       [ 17028.47   ],\n",
       "       [ 21762.334  ],\n",
       "       [ 13321.401  ],\n",
       "       [ 13293.572  ],\n",
       "       [ 31960.787  ],\n",
       "       [ 15505.845  ],\n",
       "       [ 43493.27   ],\n",
       "       [ 23530.38   ],\n",
       "       [  3593.598  ],\n",
       "       [  9015.436  ],\n",
       "       [ 12822.166  ],\n",
       "       [ 26459.885  ],\n",
       "       [ 26618.137  ],\n",
       "       [ 33210.785  ],\n",
       "       [ 16437.861  ],\n",
       "       [ 11597.198  ],\n",
       "       [  3124.6348 ],\n",
       "       [ 18306.492  ],\n",
       "       [ 39956.887  ],\n",
       "       [  4123.86   ],\n",
       "       [ 23295.14   ],\n",
       "       [ 13914.225  ],\n",
       "       [  9263.361  ],\n",
       "       [  6172.52   ],\n",
       "       [  8475.513  ],\n",
       "       [ 25434.258  ],\n",
       "       [ 93769.83   ],\n",
       "       [ 27222.459  ],\n",
       "       [ 14254.276  ],\n",
       "       [ 93769.83   ],\n",
       "       [ 20683.5    ],\n",
       "       [ 10451.567  ],\n",
       "       [ 12737.971  ],\n",
       "       [  7828.185  ],\n",
       "       [ 40052.7    ],\n",
       "       [ 35907.22   ],\n",
       "       [ 14917.375  ],\n",
       "       [  9650.743  ],\n",
       "       [  9969.858  ],\n",
       "       [ 11130.946  ],\n",
       "       [  4982.819  ],\n",
       "       [  9527.512  ],\n",
       "       [  8413.307  ],\n",
       "       [  5694.915  ],\n",
       "       [ 21509.625  ],\n",
       "       [ 20934.744  ],\n",
       "       [ 12613.533  ],\n",
       "       [ 20246.85   ],\n",
       "       [ 13352.092  ],\n",
       "       [ 41275.59   ],\n",
       "       [ 89573.87   ],\n",
       "       [ 20640.361  ],\n",
       "       [ 43312.324  ],\n",
       "       [ 24144.37   ],\n",
       "       [  5812.983  ],\n",
       "       [ 22019.682  ],\n",
       "       [ 14876.454  ],\n",
       "       [ 10997.294  ],\n",
       "       [  5154.245  ],\n",
       "       [ 29062.23   ],\n",
       "       [  5454.5703 ],\n",
       "       [  6155.508  ],\n",
       "       [ 93769.83   ],\n",
       "       [  7796.1235 ],\n",
       "       [ 13994.404  ],\n",
       "       [  1569.9431 ],\n",
       "       [  5068.687  ],\n",
       "       [ 13984.246  ],\n",
       "       [  8001.675  ],\n",
       "       [ 14296.274  ],\n",
       "       [ 11106.663  ],\n",
       "       [ 17731.707  ],\n",
       "       [ 40955.11   ],\n",
       "       [ 12502.186  ],\n",
       "       [  9855.727  ],\n",
       "       [  1757.5743 ],\n",
       "       [  8376.358  ],\n",
       "       [  9201.747  ],\n",
       "       [ 16798.023  ],\n",
       "       [ 29525.965  ],\n",
       "       [  8041.184  ],\n",
       "       [106829.88   ],\n",
       "       [ 14470.921  ],\n",
       "       [ 14552.112  ],\n",
       "       [ 13567.757  ],\n",
       "       [  6412.971  ],\n",
       "       [ 10041.408  ],\n",
       "       [  9071.738  ],\n",
       "       [ 36317.176  ],\n",
       "       [  9108.568  ],\n",
       "       [ 13778.33   ],\n",
       "       [  3344.4329 ],\n",
       "       [   934.60406],\n",
       "       [ 26729.217  ],\n",
       "       [  7149.108  ],\n",
       "       [ 27023.914  ],\n",
       "       [ 11973.375  ],\n",
       "       [ 12998.061  ],\n",
       "       [  9681.316  ],\n",
       "       [  1816.0743 ],\n",
       "       [  7713.808  ],\n",
       "       [  1097.5369 ],\n",
       "       [ 83669.02   ],\n",
       "       [  2752.308  ],\n",
       "       [ 21879.717  ],\n",
       "       [ 19597.86   ],\n",
       "       [  8909.962  ],\n",
       "       [  6803.412  ],\n",
       "       [  7454.9077 ],\n",
       "       [  5529.568  ],\n",
       "       [ 13494.207  ],\n",
       "       [  4837.493  ],\n",
       "       [ 14549.246  ],\n",
       "       [  8936.07   ],\n",
       "       [ 11122.087  ],\n",
       "       [ 17264.307  ],\n",
       "       [  7866.722  ],\n",
       "       [ 20947.604  ],\n",
       "       [ 45926.37   ],\n",
       "       [ 41364.105  ],\n",
       "       [ 19236.293  ],\n",
       "       [ 11439.779  ],\n",
       "       [  9694.043  ],\n",
       "       [  6774.475  ],\n",
       "       [ 32005.574  ],\n",
       "       [ 33498.125  ],\n",
       "       [ 16170.606  ],\n",
       "       [  6690.953  ],\n",
       "       [ 29355.115  ],\n",
       "       [ 10357.843  ],\n",
       "       [ 27590.834  ],\n",
       "       [ 11601.206  ],\n",
       "       [ 96140.266  ],\n",
       "       [  3779.5679 ],\n",
       "       [  3629.6536 ],\n",
       "       [ 95009.48   ],\n",
       "       [ 22127.426  ],\n",
       "       [ 53936.555  ],\n",
       "       [ 18834.965  ],\n",
       "       [ 19136.854  ],\n",
       "       [ 12719.97   ],\n",
       "       [ 11938.969  ],\n",
       "       [109071.17   ],\n",
       "       [ 69469.27   ],\n",
       "       [ 11498.553  ],\n",
       "       [  2559.4377 ],\n",
       "       [ 11844.064  ],\n",
       "       [  1188.2566 ],\n",
       "       [ 14218.55   ],\n",
       "       [ 11033.913  ],\n",
       "       [  1879.33   ],\n",
       "       [ 11833.53   ],\n",
       "       [ 10901.045  ],\n",
       "       [ 35243.844  ],\n",
       "       [ 18670.254  ],\n",
       "       [ 60311.008  ],\n",
       "       [  9142.24   ],\n",
       "       [ 26151.055  ],\n",
       "       [ 94244.95   ],\n",
       "       [  9270.754  ],\n",
       "       [  6967.5283 ],\n",
       "       [ 13015.58   ],\n",
       "       [ -1125.1852 ],\n",
       "       [ 11488.894  ],\n",
       "       [ 79977.17   ],\n",
       "       [  8002.92   ],\n",
       "       [ 10928.045  ],\n",
       "       [ 13483.233  ],\n",
       "       [ 18761.275  ],\n",
       "       [ 11963.197  ],\n",
       "       [  8149.5317 ],\n",
       "       [ 34364.676  ],\n",
       "       [ 26453.89   ],\n",
       "       [  4686.2573 ],\n",
       "       [ 10056.829  ],\n",
       "       [  8912.38   ],\n",
       "       [ 65041.984  ],\n",
       "       [ 16765.592  ],\n",
       "       [ 34617.88   ],\n",
       "       [  8218.582  ],\n",
       "       [  6839.4067 ],\n",
       "       [ 22381.771  ],\n",
       "       [ 62973.387  ],\n",
       "       [  7775.219  ],\n",
       "       [  7567.138  ],\n",
       "       [ 13287.79   ],\n",
       "       [ 40251.016  ],\n",
       "       [ 17218.5    ],\n",
       "       [ 13578.46   ],\n",
       "       [ 11457.624  ],\n",
       "       [  5921.614  ],\n",
       "       [ 10442.63   ],\n",
       "       [ 12724.571  ],\n",
       "       [  6163.968  ],\n",
       "       [ 12473.359  ],\n",
       "       [ 18849.11   ],\n",
       "       [ 12243.26   ],\n",
       "       [ 18800.455  ],\n",
       "       [  8106.735  ],\n",
       "       [ 16240.617  ],\n",
       "       [ 13136.76   ],\n",
       "       [ 66657.18   ],\n",
       "       [ 23960.617  ],\n",
       "       [  1346.4932 ],\n",
       "       [  2397.2852 ],\n",
       "       [   614.3488 ],\n",
       "       [ 35679.645  ],\n",
       "       [ 22410.68   ],\n",
       "       [ 53521.598  ],\n",
       "       [ 11417.678  ],\n",
       "       [ 13451.609  ],\n",
       "       [  7737.3994 ],\n",
       "       [  7400.7656 ],\n",
       "       [ 25617.781  ],\n",
       "       [  7371.661  ],\n",
       "       [ 15417.947  ],\n",
       "       [ 63742.223  ],\n",
       "       [ 11348.391  ],\n",
       "       [  9615.334  ],\n",
       "       [  2455.873  ],\n",
       "       [   768.93695],\n",
       "       [  3210.6675 ],\n",
       "       [ 17979.629  ],\n",
       "       [ 20501.39   ],\n",
       "       [  8387.143  ],\n",
       "       [ 12326.558  ],\n",
       "       [ 12182.651  ],\n",
       "       [  5669.25   ],\n",
       "       [ 17770.424  ],\n",
       "       [  7378.41   ],\n",
       "       [  1536.914  ],\n",
       "       [ 13353.466  ],\n",
       "       [ 25602.623  ],\n",
       "       [  4149.809  ],\n",
       "       [  9108.396  ],\n",
       "       [ 18459.824  ],\n",
       "       [  9490.157  ],\n",
       "       [ 15358.621  ],\n",
       "       [  8985.3    ],\n",
       "       [ 36022.008  ],\n",
       "       [ 74226.73   ],\n",
       "       [  5647.75   ],\n",
       "       [ 12318.516  ],\n",
       "       [ 25691.375  ],\n",
       "       [ 88008.086  ],\n",
       "       [ 10673.596  ],\n",
       "       [ 11385.448  ],\n",
       "       [ 14709.546  ],\n",
       "       [ 40251.03   ],\n",
       "       [ 13812.203  ],\n",
       "       [ 30510.139  ],\n",
       "       [ 26778.486  ],\n",
       "       [ 10432.409  ],\n",
       "       [ 36212.945  ],\n",
       "       [  8247.936  ],\n",
       "       [ 21012.197  ],\n",
       "       [ 15779.02   ],\n",
       "       [ 10131.165  ],\n",
       "       [ 23916.244  ],\n",
       "       [  7521.8413 ],\n",
       "       [ 12415.82   ],\n",
       "       [ 17612.455  ],\n",
       "       [ 13175.964  ],\n",
       "       [113504.836  ],\n",
       "       [ 34238.54   ],\n",
       "       [ 34128.816  ],\n",
       "       [ 24913.12   ],\n",
       "       [  3824.3542 ],\n",
       "       [ 23082.242  ],\n",
       "       [ 16392.928  ],\n",
       "       [  3685.0935 ],\n",
       "       [ 17547.775  ],\n",
       "       [  3230.2065 ],\n",
       "       [ 38177.383  ],\n",
       "       [  4742.729  ],\n",
       "       [104385.7    ],\n",
       "       [  8181.5796 ],\n",
       "       [ 11823.656  ],\n",
       "       [ 79991.15   ],\n",
       "       [ 16118.102  ],\n",
       "       [  7260.4106 ],\n",
       "       [ 12635.517  ],\n",
       "       [  5669.694  ],\n",
       "       [  8219.545  ],\n",
       "       [ 46153.523  ],\n",
       "       [  5051.341  ],\n",
       "       [ 11041.832  ],\n",
       "       [ 16797.463  ],\n",
       "       [ 92507.4    ],\n",
       "       [ 17440.162  ],\n",
       "       [  9048.392  ],\n",
       "       [  3824.7937 ],\n",
       "       [ 11447.805  ],\n",
       "       [ 12359.374  ],\n",
       "       [ 13851.357  ],\n",
       "       [  4983.526  ],\n",
       "       [ 41342.25   ],\n",
       "       [ 18070.9    ],\n",
       "       [ 14574.236  ],\n",
       "       [ 17785.96   ],\n",
       "       [  2585.4792 ],\n",
       "       [ 16040.5    ],\n",
       "       [  9274.709  ],\n",
       "       [ 85118.84   ],\n",
       "       [ 11560.054  ],\n",
       "       [ 10605.849  ],\n",
       "       [  3329.425  ],\n",
       "       [ 10152.1455 ],\n",
       "       [  5075.2285 ],\n",
       "       [ 17325.105  ],\n",
       "       [  9492.736  ],\n",
       "       [ 77089.86   ],\n",
       "       [  4055.1338 ],\n",
       "       [ 18674.258  ],\n",
       "       [ 10699.13   ],\n",
       "       [ 18125.652  ],\n",
       "       [ 77747.     ],\n",
       "       [  4772.178  ],\n",
       "       [ 14014.943  ],\n",
       "       [ 11627.97   ],\n",
       "       [  7567.721  ],\n",
       "       [ 28128.318  ],\n",
       "       [ 13863.261  ],\n",
       "       [ 14014.46   ],\n",
       "       [ 17420.197  ],\n",
       "       [ 54394.83   ],\n",
       "       [ 37089.86   ],\n",
       "       [ 16349.025  ],\n",
       "       [ 13405.806  ],\n",
       "       [ 11774.928  ],\n",
       "       [ 11695.869  ],\n",
       "       [ 17533.29   ],\n",
       "       [ 84677.15   ],\n",
       "       [ 14522.233  ],\n",
       "       [ 11958.265  ],\n",
       "       [  8096.3296 ],\n",
       "       [ 13700.763  ],\n",
       "       [ 17837.414  ],\n",
       "       [ 12564.137  ],\n",
       "       [ 45890.695  ],\n",
       "       [ 33928.883  ]], dtype=float32)"
      ]
     },
     "execution_count": 65,
     "metadata": {},
     "output_type": "execute_result"
    }
   ],
   "source": [
    "predictions"
   ]
  },
  {
   "cell_type": "code",
   "execution_count": 66,
   "metadata": {},
   "outputs": [],
   "source": [
    "predictions = predictions.astype(int)"
   ]
  },
  {
   "cell_type": "code",
   "execution_count": 67,
   "metadata": {},
   "outputs": [
    {
     "data": {
      "text/plain": [
       "array([[ 13289],\n",
       "       [  9445],\n",
       "       [ 11357],\n",
       "       [ 15240],\n",
       "       [  7941],\n",
       "       [ 18299],\n",
       "       [ 73083],\n",
       "       [ 61182],\n",
       "       [ 35367],\n",
       "       [  4730],\n",
       "       [  9928],\n",
       "       [  2984],\n",
       "       [ 11122],\n",
       "       [ 85526],\n",
       "       [  9636],\n",
       "       [ 24534],\n",
       "       [ 49382],\n",
       "       [ 11653],\n",
       "       [ 34522],\n",
       "       [ 22203],\n",
       "       [ 17437],\n",
       "       [ 30646],\n",
       "       [ 32484],\n",
       "       [  3916],\n",
       "       [ 13371],\n",
       "       [ 17363],\n",
       "       [  4241],\n",
       "       [  9201],\n",
       "       [  8121],\n",
       "       [ 14040],\n",
       "       [ 29948],\n",
       "       [ 29326],\n",
       "       [ 76931],\n",
       "       [ 33561],\n",
       "       [ 22170],\n",
       "       [  6187],\n",
       "       [ 20559],\n",
       "       [ 28932],\n",
       "       [  7083],\n",
       "       [ 12209],\n",
       "       [ 20502],\n",
       "       [ 10768],\n",
       "       [  7204],\n",
       "       [ 14669],\n",
       "       [  9586],\n",
       "       [ 10850],\n",
       "       [  6558],\n",
       "       [ 25456],\n",
       "       [  8956],\n",
       "       [ 32293],\n",
       "       [  4457],\n",
       "       [ 89605],\n",
       "       [  5826],\n",
       "       [ 14178],\n",
       "       [ 16006],\n",
       "       [ 36706],\n",
       "       [ 15009],\n",
       "       [ 34561],\n",
       "       [  8963],\n",
       "       [ 17975],\n",
       "       [ 46592],\n",
       "       [  7383],\n",
       "       [ 17028],\n",
       "       [ 21762],\n",
       "       [ 13321],\n",
       "       [ 13293],\n",
       "       [ 31960],\n",
       "       [ 15505],\n",
       "       [ 43493],\n",
       "       [ 23530],\n",
       "       [  3593],\n",
       "       [  9015],\n",
       "       [ 12822],\n",
       "       [ 26459],\n",
       "       [ 26618],\n",
       "       [ 33210],\n",
       "       [ 16437],\n",
       "       [ 11597],\n",
       "       [  3124],\n",
       "       [ 18306],\n",
       "       [ 39956],\n",
       "       [  4123],\n",
       "       [ 23295],\n",
       "       [ 13914],\n",
       "       [  9263],\n",
       "       [  6172],\n",
       "       [  8475],\n",
       "       [ 25434],\n",
       "       [ 93769],\n",
       "       [ 27222],\n",
       "       [ 14254],\n",
       "       [ 93769],\n",
       "       [ 20683],\n",
       "       [ 10451],\n",
       "       [ 12737],\n",
       "       [  7828],\n",
       "       [ 40052],\n",
       "       [ 35907],\n",
       "       [ 14917],\n",
       "       [  9650],\n",
       "       [  9969],\n",
       "       [ 11130],\n",
       "       [  4982],\n",
       "       [  9527],\n",
       "       [  8413],\n",
       "       [  5694],\n",
       "       [ 21509],\n",
       "       [ 20934],\n",
       "       [ 12613],\n",
       "       [ 20246],\n",
       "       [ 13352],\n",
       "       [ 41275],\n",
       "       [ 89573],\n",
       "       [ 20640],\n",
       "       [ 43312],\n",
       "       [ 24144],\n",
       "       [  5812],\n",
       "       [ 22019],\n",
       "       [ 14876],\n",
       "       [ 10997],\n",
       "       [  5154],\n",
       "       [ 29062],\n",
       "       [  5454],\n",
       "       [  6155],\n",
       "       [ 93769],\n",
       "       [  7796],\n",
       "       [ 13994],\n",
       "       [  1569],\n",
       "       [  5068],\n",
       "       [ 13984],\n",
       "       [  8001],\n",
       "       [ 14296],\n",
       "       [ 11106],\n",
       "       [ 17731],\n",
       "       [ 40955],\n",
       "       [ 12502],\n",
       "       [  9855],\n",
       "       [  1757],\n",
       "       [  8376],\n",
       "       [  9201],\n",
       "       [ 16798],\n",
       "       [ 29525],\n",
       "       [  8041],\n",
       "       [106829],\n",
       "       [ 14470],\n",
       "       [ 14552],\n",
       "       [ 13567],\n",
       "       [  6412],\n",
       "       [ 10041],\n",
       "       [  9071],\n",
       "       [ 36317],\n",
       "       [  9108],\n",
       "       [ 13778],\n",
       "       [  3344],\n",
       "       [   934],\n",
       "       [ 26729],\n",
       "       [  7149],\n",
       "       [ 27023],\n",
       "       [ 11973],\n",
       "       [ 12998],\n",
       "       [  9681],\n",
       "       [  1816],\n",
       "       [  7713],\n",
       "       [  1097],\n",
       "       [ 83669],\n",
       "       [  2752],\n",
       "       [ 21879],\n",
       "       [ 19597],\n",
       "       [  8909],\n",
       "       [  6803],\n",
       "       [  7454],\n",
       "       [  5529],\n",
       "       [ 13494],\n",
       "       [  4837],\n",
       "       [ 14549],\n",
       "       [  8936],\n",
       "       [ 11122],\n",
       "       [ 17264],\n",
       "       [  7866],\n",
       "       [ 20947],\n",
       "       [ 45926],\n",
       "       [ 41364],\n",
       "       [ 19236],\n",
       "       [ 11439],\n",
       "       [  9694],\n",
       "       [  6774],\n",
       "       [ 32005],\n",
       "       [ 33498],\n",
       "       [ 16170],\n",
       "       [  6690],\n",
       "       [ 29355],\n",
       "       [ 10357],\n",
       "       [ 27590],\n",
       "       [ 11601],\n",
       "       [ 96140],\n",
       "       [  3779],\n",
       "       [  3629],\n",
       "       [ 95009],\n",
       "       [ 22127],\n",
       "       [ 53936],\n",
       "       [ 18834],\n",
       "       [ 19136],\n",
       "       [ 12719],\n",
       "       [ 11938],\n",
       "       [109071],\n",
       "       [ 69469],\n",
       "       [ 11498],\n",
       "       [  2559],\n",
       "       [ 11844],\n",
       "       [  1188],\n",
       "       [ 14218],\n",
       "       [ 11033],\n",
       "       [  1879],\n",
       "       [ 11833],\n",
       "       [ 10901],\n",
       "       [ 35243],\n",
       "       [ 18670],\n",
       "       [ 60311],\n",
       "       [  9142],\n",
       "       [ 26151],\n",
       "       [ 94244],\n",
       "       [  9270],\n",
       "       [  6967],\n",
       "       [ 13015],\n",
       "       [ -1125],\n",
       "       [ 11488],\n",
       "       [ 79977],\n",
       "       [  8002],\n",
       "       [ 10928],\n",
       "       [ 13483],\n",
       "       [ 18761],\n",
       "       [ 11963],\n",
       "       [  8149],\n",
       "       [ 34364],\n",
       "       [ 26453],\n",
       "       [  4686],\n",
       "       [ 10056],\n",
       "       [  8912],\n",
       "       [ 65041],\n",
       "       [ 16765],\n",
       "       [ 34617],\n",
       "       [  8218],\n",
       "       [  6839],\n",
       "       [ 22381],\n",
       "       [ 62973],\n",
       "       [  7775],\n",
       "       [  7567],\n",
       "       [ 13287],\n",
       "       [ 40251],\n",
       "       [ 17218],\n",
       "       [ 13578],\n",
       "       [ 11457],\n",
       "       [  5921],\n",
       "       [ 10442],\n",
       "       [ 12724],\n",
       "       [  6163],\n",
       "       [ 12473],\n",
       "       [ 18849],\n",
       "       [ 12243],\n",
       "       [ 18800],\n",
       "       [  8106],\n",
       "       [ 16240],\n",
       "       [ 13136],\n",
       "       [ 66657],\n",
       "       [ 23960],\n",
       "       [  1346],\n",
       "       [  2397],\n",
       "       [   614],\n",
       "       [ 35679],\n",
       "       [ 22410],\n",
       "       [ 53521],\n",
       "       [ 11417],\n",
       "       [ 13451],\n",
       "       [  7737],\n",
       "       [  7400],\n",
       "       [ 25617],\n",
       "       [  7371],\n",
       "       [ 15417],\n",
       "       [ 63742],\n",
       "       [ 11348],\n",
       "       [  9615],\n",
       "       [  2455],\n",
       "       [   768],\n",
       "       [  3210],\n",
       "       [ 17979],\n",
       "       [ 20501],\n",
       "       [  8387],\n",
       "       [ 12326],\n",
       "       [ 12182],\n",
       "       [  5669],\n",
       "       [ 17770],\n",
       "       [  7378],\n",
       "       [  1536],\n",
       "       [ 13353],\n",
       "       [ 25602],\n",
       "       [  4149],\n",
       "       [  9108],\n",
       "       [ 18459],\n",
       "       [  9490],\n",
       "       [ 15358],\n",
       "       [  8985],\n",
       "       [ 36022],\n",
       "       [ 74226],\n",
       "       [  5647],\n",
       "       [ 12318],\n",
       "       [ 25691],\n",
       "       [ 88008],\n",
       "       [ 10673],\n",
       "       [ 11385],\n",
       "       [ 14709],\n",
       "       [ 40251],\n",
       "       [ 13812],\n",
       "       [ 30510],\n",
       "       [ 26778],\n",
       "       [ 10432],\n",
       "       [ 36212],\n",
       "       [  8247],\n",
       "       [ 21012],\n",
       "       [ 15779],\n",
       "       [ 10131],\n",
       "       [ 23916],\n",
       "       [  7521],\n",
       "       [ 12415],\n",
       "       [ 17612],\n",
       "       [ 13175],\n",
       "       [113504],\n",
       "       [ 34238],\n",
       "       [ 34128],\n",
       "       [ 24913],\n",
       "       [  3824],\n",
       "       [ 23082],\n",
       "       [ 16392],\n",
       "       [  3685],\n",
       "       [ 17547],\n",
       "       [  3230],\n",
       "       [ 38177],\n",
       "       [  4742],\n",
       "       [104385],\n",
       "       [  8181],\n",
       "       [ 11823],\n",
       "       [ 79991],\n",
       "       [ 16118],\n",
       "       [  7260],\n",
       "       [ 12635],\n",
       "       [  5669],\n",
       "       [  8219],\n",
       "       [ 46153],\n",
       "       [  5051],\n",
       "       [ 11041],\n",
       "       [ 16797],\n",
       "       [ 92507],\n",
       "       [ 17440],\n",
       "       [  9048],\n",
       "       [  3824],\n",
       "       [ 11447],\n",
       "       [ 12359],\n",
       "       [ 13851],\n",
       "       [  4983],\n",
       "       [ 41342],\n",
       "       [ 18070],\n",
       "       [ 14574],\n",
       "       [ 17785],\n",
       "       [  2585],\n",
       "       [ 16040],\n",
       "       [  9274],\n",
       "       [ 85118],\n",
       "       [ 11560],\n",
       "       [ 10605],\n",
       "       [  3329],\n",
       "       [ 10152],\n",
       "       [  5075],\n",
       "       [ 17325],\n",
       "       [  9492],\n",
       "       [ 77089],\n",
       "       [  4055],\n",
       "       [ 18674],\n",
       "       [ 10699],\n",
       "       [ 18125],\n",
       "       [ 77747],\n",
       "       [  4772],\n",
       "       [ 14014],\n",
       "       [ 11627],\n",
       "       [  7567],\n",
       "       [ 28128],\n",
       "       [ 13863],\n",
       "       [ 14014],\n",
       "       [ 17420],\n",
       "       [ 54394],\n",
       "       [ 37089],\n",
       "       [ 16349],\n",
       "       [ 13405],\n",
       "       [ 11774],\n",
       "       [ 11695],\n",
       "       [ 17533],\n",
       "       [ 84677],\n",
       "       [ 14522],\n",
       "       [ 11958],\n",
       "       [  8096],\n",
       "       [ 13700],\n",
       "       [ 17837],\n",
       "       [ 12564],\n",
       "       [ 45890],\n",
       "       [ 33928]])"
      ]
     },
     "execution_count": 67,
     "metadata": {},
     "output_type": "execute_result"
    }
   ],
   "source": [
    "predictions"
   ]
  },
  {
   "cell_type": "code",
   "execution_count": 72,
   "metadata": {},
   "outputs": [
    {
     "name": "stdout",
     "output_type": "stream",
     "text": [
      "Model name: Sequential\n",
      "RMSE: 8699.281397406656\n"
     ]
    },
    {
     "data": {
      "image/png": "[encoded data removed]",
      "text/plain": [
       "<Figure size 432x288 with 1 Axes>"
      ]
     },
     "metadata": {
      "needs_background": "light"
     },
     "output_type": "display_data"
    }
   ],
   "source": [
    "    \n",
    "    \n",
    "    rms = sqrt(mean_squared_error(y_test, predictions))\n",
    "    \n",
    "    print(\"Model name: {}\".format(model.__class__.__name__))\n",
    "    print(\"RMSE: {}\".format(rms)) \n",
    "          \n",
    "    list_nums = []\n",
    "\n",
    "    for x in range(1, len(predictions) + 1):\n",
    "        list_nums.append(x)  \n",
    "          \n",
    "          \n",
    "    plt.plot(list_nums, y_test) # blue\n",
    "    plt.plot(list_nums, predictions) # orange\n",
    " \n",
    " \n",
    "\n",
    "    plt.ylabel('Value of car')\n",
    "    plt.xlabel('One point represents a car (i.e. point of comparison)')\n",
    "    plt.legend(['Actual', 'Predictions'])\n",
    "\n",
    "    plt.title(\"Actual vs Predictions graph for {}\".format(model.__class__.__name__))\n",
    "    plt.show()"
   ]
  },
  {
   "cell_type": "code",
   "execution_count": null,
   "metadata": {},
   "outputs": [],
   "source": []
  }
 ],
 "metadata": {
  "kernelspec": {
   "display_name": "Python 3",
   "language": "python",
   "name": "python3"
  },
  "language_info": {
   "codemirror_mode": {
    "name": "ipython",
    "version": 3
   },
   "file_extension": ".py",
   "mimetype": "text/x-python",
   "name": "python",
   "nbconvert_exporter": "python",
   "pygments_lexer": "ipython3",
   "version": "3.7.4"
  }
 },
 "nbformat": 4,
 "nbformat_minor": 2
}
